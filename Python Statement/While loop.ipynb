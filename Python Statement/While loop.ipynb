{
 "cells": [
  {
   "cell_type": "markdown",
   "id": "99c85744",
   "metadata": {},
   "source": [
    "# While loop"
   ]
  },
  {
   "cell_type": "code",
   "execution_count": 1,
   "id": "da90942a",
   "metadata": {},
   "outputs": [
    {
     "name": "stdout",
     "output_type": "stream",
     "text": [
      "x is currently:,  0\n",
      "x is still less than 10, adding 1 to x\n",
      "x is currently:,  1\n",
      "x is still less than 10, adding 1 to x\n",
      "x is currently:,  2\n",
      "x is still less than 10, adding 1 to x\n",
      "x is currently:,  3\n",
      "x is still less than 10, adding 1 to x\n",
      "x is currently:,  4\n",
      "x is still less than 10, adding 1 to x\n",
      "x is currently:,  5\n",
      "x is still less than 10, adding 1 to x\n",
      "x is currently:,  6\n",
      "x is still less than 10, adding 1 to x\n",
      "x is currently:,  7\n",
      "x is still less than 10, adding 1 to x\n",
      "x is currently:,  8\n",
      "x is still less than 10, adding 1 to x\n",
      "x is currently:,  9\n",
      "x is still less than 10, adding 1 to x\n"
     ]
    }
   ],
   "source": [
    "x = 0\n",
    "\n",
    "while x < 10:\n",
    "    print('x is currently:, ', x)\n",
    "    print('x is still less than 10, adding 1 to x')\n",
    "    x+=1 "
   ]
  },
  {
   "cell_type": "code",
   "execution_count": 3,
   "id": "f875ff57",
   "metadata": {},
   "outputs": [
    {
     "name": "stdout",
     "output_type": "stream",
     "text": [
      "x is currently:  0\n",
      "x is currently less than 10, adding 1 to x\n",
      "x is currently:  1\n",
      "x is currently less than 10, adding 1 to x\n",
      "x is currently:  2\n",
      "x is currently less than 10, adding 1 to x\n",
      "x is currently:  3\n",
      "x is currently less than 10, adding 1 to x\n",
      "x is currently:  4\n",
      "x is currently less than 10, adding 1 to x\n",
      "x is currently:  5\n",
      "x is currently less than 10, adding 1 to x\n",
      "x is currently:  6\n",
      "x is currently less than 10, adding 1 to x\n",
      "x is currently:  7\n",
      "x is currently less than 10, adding 1 to x\n",
      "x is currently:  8\n",
      "x is currently less than 10, adding 1 to x\n",
      "x is currently:  9\n",
      "x is currently less than 10, adding 1 to x\n",
      "All done!\n"
     ]
    }
   ],
   "source": [
    "x = 0\n",
    "\n",
    "while x < 10:\n",
    "    print('x is currently: ', x)\n",
    "    print('x is currently less than 10, adding 1 to x')\n",
    "    x+=1\n",
    "    \n",
    "else:\n",
    "    print('All done!')"
   ]
  },
  {
   "cell_type": "markdown",
   "id": "6e2299a4",
   "metadata": {},
   "source": [
    "# break, continue, pass"
   ]
  },
  {
   "cell_type": "code",
   "execution_count": null,
   "id": "6dcfdfe8",
   "metadata": {},
   "outputs": [],
   "source": [
    "break: Breaks out of the current closest enclosing loop.\n",
    "continue: Goes to the top of the closest enclosing loop.\n",
    "pass: Does nothing at all."
   ]
  },
  {
   "cell_type": "code",
   "execution_count": 4,
   "id": "ea4cceaf",
   "metadata": {},
   "outputs": [
    {
     "name": "stdout",
     "output_type": "stream",
     "text": [
      "x is currently:  0\n",
      "x is currently less than 10, adding 1 to x\n",
      "continue.....\n",
      "x is currently:  1\n",
      "x is currently less than 10, adding 1 to x\n",
      "continue.....\n",
      "x is currently:  2\n",
      "x is currently less than 10, adding 1 to x\n",
      "x==3\n",
      "x is currently:  3\n",
      "x is currently less than 10, adding 1 to x\n",
      "continue.....\n",
      "x is currently:  4\n",
      "x is currently less than 10, adding 1 to x\n",
      "continue.....\n",
      "x is currently:  5\n",
      "x is currently less than 10, adding 1 to x\n",
      "continue.....\n",
      "x is currently:  6\n",
      "x is currently less than 10, adding 1 to x\n",
      "continue.....\n",
      "x is currently:  7\n",
      "x is currently less than 10, adding 1 to x\n",
      "continue.....\n",
      "x is currently:  8\n",
      "x is currently less than 10, adding 1 to x\n",
      "continue.....\n",
      "x is currently:  9\n",
      "x is currently less than 10, adding 1 to x\n",
      "continue.....\n"
     ]
    }
   ],
   "source": [
    "x = 0\n",
    "\n",
    "while x < 10:\n",
    "    print('x is currently: ', x)\n",
    "    print('x is currently less than 10, adding 1 to x')\n",
    "    x+=1\n",
    "    if x == 3:\n",
    "        print('x==3')\n",
    "    else:\n",
    "        print('continue.....')\n",
    "        continue"
   ]
  },
  {
   "cell_type": "code",
   "execution_count": 5,
   "id": "6bddf265",
   "metadata": {},
   "outputs": [
    {
     "name": "stdout",
     "output_type": "stream",
     "text": [
      "x is currently:  0\n",
      "x is is currently less than 10, adding 1 to x\n",
      "continue.....\n",
      "x is currently:  1\n",
      "x is is currently less than 10, adding 1 to x\n",
      "continue.....\n",
      "x is currently:  2\n",
      "x is is currently less than 10, adding 1 to x\n",
      "breaking because x==3\n"
     ]
    }
   ],
   "source": [
    "x = 0\n",
    "\n",
    "while x < 10:\n",
    "    print('x is currently: ', x)\n",
    "    print('x is is currently less than 10, adding 1 to x')\n",
    "    x+=1\n",
    "    if x ==3:\n",
    "        print('breaking because x==3')\n",
    "        break\n",
    "    else:\n",
    "        print('continue.....')\n",
    "        continue "
   ]
  },
  {
   "cell_type": "code",
   "execution_count": null,
   "id": "7af5fc3c",
   "metadata": {},
   "outputs": [],
   "source": []
  },
  {
   "cell_type": "code",
   "execution_count": null,
   "id": "2c3bedfc",
   "metadata": {},
   "outputs": [],
   "source": []
  },
  {
   "cell_type": "code",
   "execution_count": null,
   "id": "0e41bbb3",
   "metadata": {},
   "outputs": [],
   "source": []
  },
  {
   "cell_type": "code",
   "execution_count": null,
   "id": "0c2415a9",
   "metadata": {},
   "outputs": [],
   "source": []
  },
  {
   "cell_type": "code",
   "execution_count": null,
   "id": "02f2e020",
   "metadata": {},
   "outputs": [],
   "source": []
  },
  {
   "cell_type": "code",
   "execution_count": null,
   "id": "31d44b75",
   "metadata": {},
   "outputs": [],
   "source": []
  },
  {
   "cell_type": "code",
   "execution_count": null,
   "id": "61eba74b",
   "metadata": {},
   "outputs": [],
   "source": []
  }
 ],
 "metadata": {
  "kernelspec": {
   "display_name": "Python 3 (ipykernel)",
   "language": "python",
   "name": "python3"
  },
  "language_info": {
   "codemirror_mode": {
    "name": "ipython",
    "version": 3
   },
   "file_extension": ".py",
   "mimetype": "text/x-python",
   "name": "python",
   "nbconvert_exporter": "python",
   "pygments_lexer": "ipython3",
   "version": "3.9.12"
  }
 },
 "nbformat": 4,
 "nbformat_minor": 5
}
