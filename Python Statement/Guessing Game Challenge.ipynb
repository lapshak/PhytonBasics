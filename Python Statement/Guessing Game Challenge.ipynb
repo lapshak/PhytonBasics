{
 "cells": [
  {
   "cell_type": "markdown",
   "id": "dbded7dc",
   "metadata": {},
   "source": [
    "# Guessing Game Challenge"
   ]
  },
  {
   "cell_type": "code",
   "execution_count": 3,
   "id": "8f469003",
   "metadata": {},
   "outputs": [],
   "source": [
    "import random\n",
    "\n",
    "num = random.randint(1,100)"
   ]
  },
  {
   "cell_type": "code",
   "execution_count": 4,
   "id": "c67f30fb",
   "metadata": {},
   "outputs": [
    {
     "name": "stdout",
     "output_type": "stream",
     "text": [
      "WELCOME TO GUESS ME!\n",
      "I'm thinking of a number between 1 and 100\n",
      "If your guess is more than 10 away from my number, I'll tell you you're COLD\n",
      "If your guess is within 10 of my number, I'll tell you you're WARM\n",
      "If your guess is farther than your most recent guess, I'll say you're getting COLDER\n",
      "If your guess is closer than your most recent guess, I'll say you're getting WARMER\n",
      "LET'S PLAY!\n"
     ]
    }
   ],
   "source": [
    "print(\"WELCOME TO GUESS ME!\")\n",
    "print(\"I'm thinking of a number between 1 and 100\")\n",
    "print(\"If your guess is more than 10 away from my number, I'll tell you you're COLD\")\n",
    "print(\"If your guess is within 10 of my number, I'll tell you you're WARM\")\n",
    "print(\"If your guess is farther than your most recent guess, I'll say you're getting COLDER\")\n",
    "print(\"If your guess is closer than your most recent guess, I'll say you're getting WARMER\")\n",
    "print(\"LET'S PLAY!\")"
   ]
  },
  {
   "cell_type": "code",
   "execution_count": 5,
   "id": "517eb6b1",
   "metadata": {},
   "outputs": [
    {
     "name": "stdout",
     "output_type": "stream",
     "text": [
      "I'm thinking of a number between 1 and 100.\n",
      "  What is your guess? 5\n"
     ]
    }
   ],
   "source": [
    "guesses = [0]\n",
    "\n",
    "while True:\n",
    "    \n",
    "    guess = int(input(\"I'm thinking of a number between 1 and 100.\\n  What is your guess? \"))\n",
    "    \n",
    "    if guess < 1 or guess > 100:\n",
    "        print('OUT OF BOUNDS! Please try again: ')\n",
    "        continue\n",
    "        \n",
    "    break"
   ]
  },
  {
   "cell_type": "code",
   "execution_count": 6,
   "id": "c3172d80",
   "metadata": {},
   "outputs": [
    {
     "name": "stdout",
     "output_type": "stream",
     "text": [
      "I'm thinking of a number between 1 and 100.\n",
      "  What is your guess? 5\n",
      "COLD!\n",
      "I'm thinking of a number between 1 and 100.\n",
      "  What is your guess? 6\n",
      "WARMER!\n",
      "I'm thinking of a number between 1 and 100.\n",
      "  What is your guess? 8\n",
      "WARMER!\n",
      "I'm thinking of a number between 1 and 100.\n",
      "  What is your guess? 4\n",
      "COLDER!\n",
      "I'm thinking of a number between 1 and 100.\n",
      "  What is your guess? 100\n",
      "COLDER!\n",
      "I'm thinking of a number between 1 and 100.\n",
      "  What is your guess? 7\n",
      "WARMER!\n",
      "I'm thinking of a number between 1 and 100.\n",
      "  What is your guess? 81\n",
      "WARMER!\n",
      "I'm thinking of a number between 1 and 100.\n",
      "  What is your guess? 80\n",
      "WARMER!\n",
      "I'm thinking of a number between 1 and 100.\n",
      "  What is your guess? 81\n",
      "COLDER!\n",
      "I'm thinking of a number between 1 and 100.\n",
      "  What is your guess? 79\n",
      "WARMER!\n",
      "I'm thinking of a number between 1 and 100.\n",
      "  What is your guess? 80\n",
      "COLDER!\n",
      "I'm thinking of a number between 1 and 100.\n",
      "  What is your guess? 82\n",
      "COLDER!\n",
      "I'm thinking of a number between 1 and 100.\n",
      "  What is your guess? 83\n",
      "COLDER!\n",
      "I'm thinking of a number between 1 and 100.\n",
      "  What is your guess? 81\n",
      "WARMER!\n",
      "I'm thinking of a number between 1 and 100.\n",
      "  What is your guess? 80\n",
      "WARMER!\n",
      "I'm thinking of a number between 1 and 100.\n",
      "  What is your guess? 82\n",
      "COLDER!\n",
      "I'm thinking of a number between 1 and 100.\n",
      "  What is your guess? 79\n",
      "WARMER!\n",
      "I'm thinking of a number between 1 and 100.\n",
      "  What is your guess? 78\n",
      "WARMER!\n",
      "I'm thinking of a number between 1 and 100.\n",
      "  What is your guess? 75\n",
      "WARMER!\n",
      "I'm thinking of a number between 1 and 100.\n",
      "  What is your guess? 70\n",
      "WARMER!\n",
      "I'm thinking of a number between 1 and 100.\n",
      "  What is your guess? 60\n",
      "WARMER!\n",
      "I'm thinking of a number between 1 and 100.\n",
      "  What is your guess? 50\n",
      "WARMER!\n",
      "I'm thinking of a number between 1 and 100.\n",
      "  What is your guess? 40\n",
      "COLDER!\n",
      "I'm thinking of a number between 1 and 100.\n",
      "  What is your guess? 45\n",
      "WARMER!\n",
      "I'm thinking of a number between 1 and 100.\n",
      "  What is your guess? 44\n",
      "COLDER!\n",
      "I'm thinking of a number between 1 and 100.\n",
      "  What is your guess? 46\n",
      "WARMER!\n",
      "I'm thinking of a number between 1 and 100.\n",
      "  What is your guess? 47\n",
      "WARMER!\n",
      "I'm thinking of a number between 1 and 100.\n",
      "  What is your guess? 48\n",
      "WARMER!\n",
      "I'm thinking of a number between 1 and 100.\n",
      "  What is your guess? 49\n",
      "WARMER!\n",
      "I'm thinking of a number between 1 and 100.\n",
      "  What is your guess? 50\n",
      "WARMER!\n",
      "I'm thinking of a number between 1 and 100.\n",
      "  What is your guess? 51\n",
      "WARMER!\n",
      "I'm thinking of a number between 1 and 100.\n",
      "  What is your guess? 52\n",
      "CONGRATULATIONS, YOU GUESSED IT IN ONLY 32 GUESSES!!\n"
     ]
    }
   ],
   "source": [
    "while True:\n",
    "\n",
    "    \n",
    "    guess = int(input(\"I'm thinking of a number between 1 and 100.\\n  What is your guess? \"))\n",
    "    \n",
    "    if guess < 1 or guess > 100:\n",
    "        print('OUT OF BOUNDS! Please try again: ')\n",
    "        continue\n",
    "    \n",
    "    # here we compare the player's guess to our number\n",
    "    if guess == num:\n",
    "        print(f'CONGRATULATIONS, YOU GUESSED IT IN ONLY {len(guesses)} GUESSES!!')\n",
    "        break\n",
    "        \n",
    "    # if guess is incorrect, add guess to the list\n",
    "    guesses.append(guess)\n",
    "    \n",
    "    # when testing the first guess, guesses[-2]==0, which evaluates to False\n",
    "    # and brings us down to the second section\n",
    "    \n",
    "    if guesses[-2]:  \n",
    "        if abs(num-guess) < abs(num-guesses[-2]):\n",
    "            print('WARMER!')\n",
    "        else:\n",
    "            print('COLDER!')\n",
    "   \n",
    "    else:\n",
    "        if abs(num-guess) <= 10:\n",
    "            print('WARM!')\n",
    "        else:\n",
    "            print('COLD!')"
   ]
  },
  {
   "cell_type": "code",
   "execution_count": null,
   "id": "cbc54079",
   "metadata": {},
   "outputs": [],
   "source": []
  },
  {
   "cell_type": "code",
   "execution_count": null,
   "id": "2bbf410a",
   "metadata": {},
   "outputs": [],
   "source": []
  },
  {
   "cell_type": "code",
   "execution_count": null,
   "id": "946df103",
   "metadata": {},
   "outputs": [],
   "source": []
  },
  {
   "cell_type": "code",
   "execution_count": null,
   "id": "31a75e44",
   "metadata": {},
   "outputs": [],
   "source": []
  },
  {
   "cell_type": "code",
   "execution_count": null,
   "id": "ac6a65bf",
   "metadata": {},
   "outputs": [],
   "source": []
  },
  {
   "cell_type": "code",
   "execution_count": null,
   "id": "c9d88383",
   "metadata": {},
   "outputs": [],
   "source": []
  }
 ],
 "metadata": {
  "kernelspec": {
   "display_name": "Python 3 (ipykernel)",
   "language": "python",
   "name": "python3"
  },
  "language_info": {
   "codemirror_mode": {
    "name": "ipython",
    "version": 3
   },
   "file_extension": ".py",
   "mimetype": "text/x-python",
   "name": "python",
   "nbconvert_exporter": "python",
   "pygments_lexer": "ipython3",
   "version": "3.9.12"
  }
 },
 "nbformat": 4,
 "nbformat_minor": 5
}
