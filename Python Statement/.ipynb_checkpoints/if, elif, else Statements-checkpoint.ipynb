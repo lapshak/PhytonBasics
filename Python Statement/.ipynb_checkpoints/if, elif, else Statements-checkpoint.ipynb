{
 "cells": [
  {
   "cell_type": "markdown",
   "id": "8b9f59c3",
   "metadata": {},
   "source": [
    "# if, elif, else Statements"
   ]
  },
  {
   "cell_type": "code",
   "execution_count": null,
   "id": "6f495dae",
   "metadata": {},
   "outputs": [],
   "source": [
    "if Statements in Python allows us to tell the computer to perform alternative actions based on a certain set of results."
   ]
  },
  {
   "cell_type": "code",
   "execution_count": 1,
   "id": "1773e196",
   "metadata": {},
   "outputs": [
    {
     "name": "stdout",
     "output_type": "stream",
     "text": [
      "it was true !\n"
     ]
    }
   ],
   "source": [
    "if True:\n",
    "    print('it was true !')"
   ]
  },
  {
   "cell_type": "code",
   "execution_count": 2,
   "id": "83dc3ead",
   "metadata": {},
   "outputs": [
    {
     "name": "stdout",
     "output_type": "stream",
     "text": [
      "I will be printed in any case where x is not true\n"
     ]
    }
   ],
   "source": [
    "x = False\n",
    "\n",
    "if x:\n",
    "    print('x was true')\n",
    "else:\n",
    "    print('I will be printed in any case where x is not true')"
   ]
  },
  {
   "cell_type": "code",
   "execution_count": 3,
   "id": "6cd75532",
   "metadata": {},
   "outputs": [
    {
     "name": "stdout",
     "output_type": "stream",
     "text": [
      "Welcome to the Bank\n"
     ]
    }
   ],
   "source": [
    "loc = 'Bank'\n",
    "if loc == 'auto shop':\n",
    "    print('Welcome to the auto shop !')\n",
    "elif loc == 'Bank':\n",
    "    print ('Welcome to the Bank')\n",
    "else:\n",
    "    print('Where are you ?')"
   ]
  },
  {
   "cell_type": "code",
   "execution_count": 4,
   "id": "bf052222",
   "metadata": {},
   "outputs": [
    {
     "name": "stdout",
     "output_type": "stream",
     "text": [
      "Welcome George !\n"
     ]
    }
   ],
   "source": [
    "person = 'George'\n",
    "\n",
    "if person == 'Sammy':\n",
    "    print('Welcome Sammy !')\n",
    "elif person == 'George':\n",
    "    print('Welcome George !')\n",
    "else:\n",
    "    print('Welcome, what is your name ?')"
   ]
  },
  {
   "cell_type": "code",
   "execution_count": null,
   "id": "04d38111",
   "metadata": {},
   "outputs": [],
   "source": []
  },
  {
   "cell_type": "code",
   "execution_count": null,
   "id": "d7520808",
   "metadata": {},
   "outputs": [],
   "source": []
  },
  {
   "cell_type": "code",
   "execution_count": null,
   "id": "ee736748",
   "metadata": {},
   "outputs": [],
   "source": []
  },
  {
   "cell_type": "code",
   "execution_count": null,
   "id": "a489e425",
   "metadata": {},
   "outputs": [],
   "source": []
  }
 ],
 "metadata": {
  "kernelspec": {
   "display_name": "Python 3 (ipykernel)",
   "language": "python",
   "name": "python3"
  },
  "language_info": {
   "codemirror_mode": {
    "name": "ipython",
    "version": 3
   },
   "file_extension": ".py",
   "mimetype": "text/x-python",
   "name": "python",
   "nbconvert_exporter": "python",
   "pygments_lexer": "ipython3",
   "version": "3.9.12"
  }
 },
 "nbformat": 4,
 "nbformat_minor": 5
}
