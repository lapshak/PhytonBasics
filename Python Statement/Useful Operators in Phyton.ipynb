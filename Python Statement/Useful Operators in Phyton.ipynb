{
 "cells": [
  {
   "cell_type": "markdown",
   "id": "9b1a9001",
   "metadata": {},
   "source": [
    "# Useful Operators"
   ]
  },
  {
   "cell_type": "markdown",
   "id": "710325df",
   "metadata": {},
   "source": [
    "Range "
   ]
  },
  {
   "cell_type": "code",
   "execution_count": 1,
   "id": "4bf79fb3",
   "metadata": {},
   "outputs": [
    {
     "data": {
      "text/plain": [
       "[0, 1, 2, 3, 4, 5, 6, 7, 8, 9, 10]"
      ]
     },
     "execution_count": 1,
     "metadata": {},
     "output_type": "execute_result"
    }
   ],
   "source": [
    "list(range(0,11)) # just like slice notation notice how 11 is not included"
   ]
  },
  {
   "cell_type": "code",
   "execution_count": 2,
   "id": "bfb0c790",
   "metadata": {},
   "outputs": [
    {
     "data": {
      "text/plain": [
       "[0, 1, 2, 3, 4, 5, 6, 7, 8, 9, 10, 11]"
      ]
     },
     "execution_count": 2,
     "metadata": {},
     "output_type": "execute_result"
    }
   ],
   "source": [
    "list(range(0,12))"
   ]
  },
  {
   "cell_type": "code",
   "execution_count": 3,
   "id": "0c693ce0",
   "metadata": {},
   "outputs": [
    {
     "data": {
      "text/plain": [
       "[0, 2, 4, 6, 8, 10]"
      ]
     },
     "execution_count": 3,
     "metadata": {},
     "output_type": "execute_result"
    }
   ],
   "source": [
    "# Third parameter is step size!\n",
    "# step size just means how big of a jump/leap/step you \n",
    "# take from the starting number to get to the next number.\n",
    "\n",
    "list(range(0,11,2))"
   ]
  },
  {
   "cell_type": "code",
   "execution_count": 7,
   "id": "26ec107e",
   "metadata": {},
   "outputs": [
    {
     "data": {
      "text/plain": [
       "[0, 10, 20, 30, 40, 50, 60, 70, 80, 90]"
      ]
     },
     "execution_count": 7,
     "metadata": {},
     "output_type": "execute_result"
    }
   ],
   "source": [
    "list(range(0,91,10))"
   ]
  },
  {
   "cell_type": "markdown",
   "id": "bccc7206",
   "metadata": {},
   "source": [
    "Enumerate"
   ]
  },
  {
   "cell_type": "code",
   "execution_count": 12,
   "id": "5184b2c7",
   "metadata": {},
   "outputs": [
    {
     "name": "stdout",
     "output_type": "stream",
     "text": [
      "at index 0 the letter is v\n",
      "at index 1 the letter is w\n",
      "at index 2 the letter is x\n",
      "at index 3 the letter is y\n",
      "at index 4 the letter is z\n"
     ]
    }
   ],
   "source": [
    "indexCount = 0\n",
    "\n",
    "for letter in 'vwxyz':\n",
    "    print('at index {} the letter is {}'.format(indexCount,letter))\n",
    "    indexCount +=1 "
   ]
  },
  {
   "cell_type": "code",
   "execution_count": 14,
   "id": "dec97a1f",
   "metadata": {},
   "outputs": [
    {
     "name": "stdout",
     "output_type": "stream",
     "text": [
      "at index 0 the letter is a\n",
      "at index 1 the letter is b\n",
      "at index 2 the letter is c\n",
      "at index 3 the letter is d\n",
      "at index 4 the letter is e\n"
     ]
    }
   ],
   "source": [
    "# now using enumerate it will be like \n",
    "\n",
    "for indexCount,letter in enumerate('abcde'):\n",
    "    print ('at index {} the letter is {}'.format(indexCount,letter))"
   ]
  },
  {
   "cell_type": "markdown",
   "id": "422975f5",
   "metadata": {},
   "source": [
    "Zip"
   ]
  },
  {
   "cell_type": "code",
   "execution_count": 15,
   "id": "0f2a2735",
   "metadata": {},
   "outputs": [
    {
     "data": {
      "text/plain": [
       "[(1, 'a'), (2, 'b'), (3, 'c'), (4, 'd')]"
      ]
     },
     "execution_count": 15,
     "metadata": {},
     "output_type": "execute_result"
    }
   ],
   "source": [
    "myList1 = [1,2,3,4]\n",
    "myList2 = ['a','b','c','d']\n",
    "\n",
    "list(zip(myList1,myList2))"
   ]
  },
  {
   "cell_type": "code",
   "execution_count": 17,
   "id": "cd3de6e9",
   "metadata": {},
   "outputs": [
    {
     "name": "stdout",
     "output_type": "stream",
     "text": [
      "for this tuple, the first item was 1 and the second was a\n",
      "for this tuple, the first item was 2 and the second was b\n",
      "for this tuple, the first item was 3 and the second was c\n",
      "for this tuple, the first item was 4 and the second was d\n"
     ]
    }
   ],
   "source": [
    "for item1, item2 in zip(myList1,myList2):\n",
    "    print('for this tuple, the first item was {} and the second was {}'.format(item1,item2))"
   ]
  },
  {
   "cell_type": "markdown",
   "id": "cd2e85c0",
   "metadata": {},
   "source": [
    "in operator"
   ]
  },
  {
   "cell_type": "code",
   "execution_count": 18,
   "id": "bdab1085",
   "metadata": {},
   "outputs": [
    {
     "data": {
      "text/plain": [
       "True"
      ]
     },
     "execution_count": 18,
     "metadata": {},
     "output_type": "execute_result"
    }
   ],
   "source": [
    "'y' in ['x', 'y', 'z']"
   ]
  },
  {
   "cell_type": "code",
   "execution_count": 19,
   "id": "635be985",
   "metadata": {},
   "outputs": [
    {
     "data": {
      "text/plain": [
       "False"
      ]
     },
     "execution_count": 19,
     "metadata": {},
     "output_type": "execute_result"
    }
   ],
   "source": [
    "'y' in [1,2,3,]"
   ]
  },
  {
   "cell_type": "markdown",
   "id": "78ecfca5",
   "metadata": {},
   "source": [
    "not in"
   ]
  },
  {
   "cell_type": "code",
   "execution_count": 20,
   "id": "58576921",
   "metadata": {},
   "outputs": [
    {
     "data": {
      "text/plain": [
       "False"
      ]
     },
     "execution_count": 20,
     "metadata": {},
     "output_type": "execute_result"
    }
   ],
   "source": [
    "'y' not in ['x','y','z']"
   ]
  },
  {
   "cell_type": "code",
   "execution_count": 21,
   "id": "d4a6dfba",
   "metadata": {},
   "outputs": [
    {
     "data": {
      "text/plain": [
       "True"
      ]
     },
     "execution_count": 21,
     "metadata": {},
     "output_type": "execute_result"
    }
   ],
   "source": [
    "'y' not in [1,2,3]"
   ]
  },
  {
   "cell_type": "markdown",
   "id": "e0bb9bb2",
   "metadata": {},
   "source": [
    "min and max"
   ]
  },
  {
   "cell_type": "code",
   "execution_count": 22,
   "id": "878783e0",
   "metadata": {},
   "outputs": [
    {
     "data": {
      "text/plain": [
       "30"
      ]
     },
     "execution_count": 22,
     "metadata": {},
     "output_type": "execute_result"
    }
   ],
   "source": [
    "myList = [30,40,60,70,]\n",
    "\n",
    "min(myList)"
   ]
  },
  {
   "cell_type": "code",
   "execution_count": 23,
   "id": "12ec392e",
   "metadata": {},
   "outputs": [
    {
     "data": {
      "text/plain": [
       "70"
      ]
     },
     "execution_count": 23,
     "metadata": {},
     "output_type": "execute_result"
    }
   ],
   "source": [
    "max(myList)"
   ]
  },
  {
   "cell_type": "markdown",
   "id": "477d8737",
   "metadata": {},
   "source": [
    "random"
   ]
  },
  {
   "cell_type": "code",
   "execution_count": null,
   "id": "a0d6e24e",
   "metadata": {},
   "outputs": [],
   "source": [
    "Python comes with a built in random library"
   ]
  },
  {
   "cell_type": "code",
   "execution_count": 27,
   "id": "ac863237",
   "metadata": {},
   "outputs": [],
   "source": [
    "from random import shuffle\n",
    "\n",
    "shuffle(myList)"
   ]
  },
  {
   "cell_type": "code",
   "execution_count": 28,
   "id": "a227f7ba",
   "metadata": {},
   "outputs": [
    {
     "data": {
      "text/plain": [
       "[40, 70, 60, 30]"
      ]
     },
     "execution_count": 28,
     "metadata": {},
     "output_type": "execute_result"
    }
   ],
   "source": [
    "myList"
   ]
  },
  {
   "cell_type": "code",
   "execution_count": 29,
   "id": "049d77ca",
   "metadata": {},
   "outputs": [
    {
     "data": {
      "text/plain": [
       "[40, 70, 60, 30]"
      ]
     },
     "execution_count": 29,
     "metadata": {},
     "output_type": "execute_result"
    }
   ],
   "source": [
    "myList"
   ]
  },
  {
   "cell_type": "code",
   "execution_count": 30,
   "id": "627f0345",
   "metadata": {},
   "outputs": [
    {
     "data": {
      "text/plain": [
       "4"
      ]
     },
     "execution_count": 30,
     "metadata": {},
     "output_type": "execute_result"
    }
   ],
   "source": [
    "from random import randint # to return random integer\n",
    "\n",
    "randint(0,20)"
   ]
  },
  {
   "cell_type": "code",
   "execution_count": 31,
   "id": "0d36ee2f",
   "metadata": {},
   "outputs": [
    {
     "data": {
      "text/plain": [
       "12"
      ]
     },
     "execution_count": 31,
     "metadata": {},
     "output_type": "execute_result"
    }
   ],
   "source": [
    "randint(0,20)"
   ]
  },
  {
   "cell_type": "code",
   "execution_count": 32,
   "id": "0c2286c6",
   "metadata": {},
   "outputs": [
    {
     "data": {
      "text/plain": [
       "7"
      ]
     },
     "execution_count": 32,
     "metadata": {},
     "output_type": "execute_result"
    }
   ],
   "source": [
    "randint(0,20)"
   ]
  },
  {
   "cell_type": "markdown",
   "id": "794cd38c",
   "metadata": {},
   "source": [
    "input"
   ]
  },
  {
   "cell_type": "code",
   "execution_count": 36,
   "id": "a8433d74",
   "metadata": {},
   "outputs": [
    {
     "name": "stdout",
     "output_type": "stream",
     "text": [
      "what is your name ?Mulapshak Seth Goyol\n"
     ]
    },
    {
     "data": {
      "text/plain": [
       "'Mulapshak Seth Goyol'"
      ]
     },
     "execution_count": 36,
     "metadata": {},
     "output_type": "execute_result"
    }
   ],
   "source": [
    "input('what is your name ?')"
   ]
  },
  {
   "cell_type": "code",
   "execution_count": null,
   "id": "fe712dc9",
   "metadata": {},
   "outputs": [],
   "source": []
  }
 ],
 "metadata": {
  "kernelspec": {
   "display_name": "Python 3 (ipykernel)",
   "language": "python",
   "name": "python3"
  },
  "language_info": {
   "codemirror_mode": {
    "name": "ipython",
    "version": 3
   },
   "file_extension": ".py",
   "mimetype": "text/x-python",
   "name": "python",
   "nbconvert_exporter": "python",
   "pygments_lexer": "ipython3",
   "version": "3.9.12"
  }
 },
 "nbformat": 4,
 "nbformat_minor": 5
}
