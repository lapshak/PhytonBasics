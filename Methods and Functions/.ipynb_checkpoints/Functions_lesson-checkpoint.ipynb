{
 "cells": [
  {
   "cell_type": "code",
   "execution_count": 1,
   "id": "fd8cf5db",
   "metadata": {},
   "outputs": [
    {
     "name": "stdout",
     "output_type": "stream",
     "text": [
      "My name is Lapshak and I am 37 years old.\n",
      "\n",
      "My name is Alhamdu and I am 35 years old.\n",
      "\n",
      "My name is Dave and I am 25 years old.\n",
      "\n"
     ]
    }
   ],
   "source": [
    "def name_age(name, age):\n",
    "    print(f\"My name is {name} and I am {age} years old.\\n\")\n",
    "\n",
    "name_age('Lapshak', 37)\n",
    "name_age('Alhamdu', 35)\n",
    "name_age('Dave', 25)\n"
   ]
  },
  {
   "cell_type": "code",
   "execution_count": 2,
   "id": "2cd7c2ae",
   "metadata": {},
   "outputs": [
    {
     "name": "stdout",
     "output_type": "stream",
     "text": [
      "This is part ONE of a big project codebase.\n",
      "\n",
      "You have 30 cheeses!\n",
      "You have 40 boxes of chocolates!\n",
      "Man that's enough for a party!\n",
      "With lots of drinks.\n",
      "Get a blanket.\n",
      "\n",
      "This is part TWO of a big project codebase.\n",
      "\n",
      "You have 30 cheeses!\n",
      "You have 40 boxes of chocolates!\n",
      "Man that's enough for a party!\n",
      "With lots of drinks.\n",
      "Get a blanket.\n",
      "\n",
      "This is part THREE of a big project codebase.\n",
      "\n",
      "You have 30 cheeses!\n",
      "You have 40 boxes of chocolates!\n",
      "Man that's enough for a party!\n",
      "With lots of drinks.\n",
      "Get a blanket.\n",
      "\n"
     ]
    }
   ],
   "source": [
    "def cheese_chocolates(num_cheeses, num_chocolates):\n",
    "    print(f\"You have {num_cheeses} cheeses!\")\n",
    "    print(f\"You have {num_chocolates} boxes of chocolates!\")\n",
    "    print(f\"Man that's enough for a party!\")\n",
    "    print(f\"With lots of drinks.\")\n",
    "    print(f\"Get a blanket.\\n\")\n",
    "    \n",
    "print(f\"This is part ONE of a big project codebase.\\n\")\n",
    "cheese_chocolates(10*3, 36+4)\n",
    "\n",
    "print(f\"This is part TWO of a big project codebase.\\n\")\n",
    "cheese_chocolates(30, 40)\n",
    "\n",
    "print(f\"This is part THREE of a big project codebase.\\n\")\n",
    "cheese_chocolates(30,40)"
   ]
  },
  {
   "cell_type": "code",
   "execution_count": null,
   "id": "3207463d",
   "metadata": {},
   "outputs": [],
   "source": []
  },
  {
   "cell_type": "code",
   "execution_count": null,
   "id": "90aabedb",
   "metadata": {},
   "outputs": [],
   "source": []
  },
  {
   "cell_type": "code",
   "execution_count": null,
   "id": "1ba556e2",
   "metadata": {},
   "outputs": [],
   "source": []
  },
  {
   "cell_type": "code",
   "execution_count": null,
   "id": "0c907cac",
   "metadata": {},
   "outputs": [],
   "source": []
  },
  {
   "cell_type": "code",
   "execution_count": null,
   "id": "da915986",
   "metadata": {},
   "outputs": [],
   "source": []
  },
  {
   "cell_type": "code",
   "execution_count": null,
   "id": "aa949aa7",
   "metadata": {},
   "outputs": [],
   "source": []
  },
  {
   "cell_type": "code",
   "execution_count": null,
   "id": "871db621",
   "metadata": {},
   "outputs": [],
   "source": []
  },
  {
   "cell_type": "code",
   "execution_count": null,
   "id": "2ee6b41d",
   "metadata": {},
   "outputs": [],
   "source": []
  },
  {
   "cell_type": "code",
   "execution_count": null,
   "id": "8dd9f75b",
   "metadata": {},
   "outputs": [],
   "source": []
  },
  {
   "cell_type": "code",
   "execution_count": null,
   "id": "2a090ab3",
   "metadata": {},
   "outputs": [],
   "source": []
  }
 ],
 "metadata": {
  "kernelspec": {
   "display_name": "Python 3 (ipykernel)",
   "language": "python",
   "name": "python3"
  },
  "language_info": {
   "codemirror_mode": {
    "name": "ipython",
    "version": 3
   },
   "file_extension": ".py",
   "mimetype": "text/x-python",
   "name": "python",
   "nbconvert_exporter": "python",
   "pygments_lexer": "ipython3",
   "version": "3.9.12"
  }
 },
 "nbformat": 4,
 "nbformat_minor": 5
}
