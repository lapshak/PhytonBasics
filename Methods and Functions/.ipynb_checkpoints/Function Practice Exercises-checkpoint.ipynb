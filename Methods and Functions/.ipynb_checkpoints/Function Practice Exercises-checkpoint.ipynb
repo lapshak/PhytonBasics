{
 "cells": [
  {
   "cell_type": "markdown",
   "id": "6d471b6a",
   "metadata": {},
   "source": [
    "# Function Practice Exercises"
   ]
  },
  {
   "cell_type": "markdown",
   "id": "bd412326",
   "metadata": {},
   "source": [
    "LESSER OF TWO EVENS: Write a function that returns the lesser of two given numbers if both numbers are even, but returns the greater if one or both numbers are odd"
   ]
  },
  {
   "cell_type": "code",
   "execution_count": 1,
   "id": "986e89b5",
   "metadata": {},
   "outputs": [],
   "source": [
    "def lesser_of_two_evens(a,b):\n",
    "    pass"
   ]
  },
  {
   "cell_type": "code",
   "execution_count": 2,
   "id": "8daddb64",
   "metadata": {},
   "outputs": [],
   "source": [
    "# Check\n",
    "lesser_of_two_evens(2,4)"
   ]
  },
  {
   "cell_type": "code",
   "execution_count": 3,
   "id": "1b29b5e3",
   "metadata": {},
   "outputs": [],
   "source": [
    "# Check\n",
    "lesser_of_two_evens(2,5)"
   ]
  },
  {
   "cell_type": "markdown",
   "id": "bf5310eb",
   "metadata": {},
   "source": [
    "ANIMAL CRACKERS: Write a function takes a two-word string and returns True if both words begin with same letter\n",
    "animal_crackers('Levelheaded Llama') --> True\n",
    "animal_crackers('Crazy Kangaroo') --> False"
   ]
  },
  {
   "cell_type": "code",
   "execution_count": 4,
   "id": "5dabe7ac",
   "metadata": {},
   "outputs": [],
   "source": [
    "def animal_crackers(text):\n",
    "    pass"
   ]
  },
  {
   "cell_type": "code",
   "execution_count": 5,
   "id": "94d11efc",
   "metadata": {},
   "outputs": [],
   "source": [
    "# Check\n",
    "animal_crackers('Levelheaded Llama')"
   ]
  },
  {
   "cell_type": "code",
   "execution_count": 6,
   "id": "ca7890f4",
   "metadata": {},
   "outputs": [],
   "source": [
    "# Check\n",
    "animal_crackers('Crazy Kangaroo')"
   ]
  },
  {
   "cell_type": "code",
   "execution_count": null,
   "id": "6cd26e2e",
   "metadata": {},
   "outputs": [],
   "source": [
    "MAKES TWENTY: Given two integers, return True if the sum of the integers is 20 or if one of the integers is 20. If not, return False\n",
    "makes_twenty(20,10) --> True\n",
    "makes_twenty(12,8) --> True\n",
    "makes_twenty(2,3) --> False"
   ]
  },
  {
   "cell_type": "code",
   "execution_count": 7,
   "id": "3660a46a",
   "metadata": {},
   "outputs": [],
   "source": [
    "def makes_twenty(n1,n2):\n",
    "    pass"
   ]
  },
  {
   "cell_type": "code",
   "execution_count": 8,
   "id": "a4e4ef9d",
   "metadata": {},
   "outputs": [],
   "source": [
    "# Check\n",
    "makes_twenty(20,10)"
   ]
  },
  {
   "cell_type": "code",
   "execution_count": 9,
   "id": "64e15ef8",
   "metadata": {},
   "outputs": [],
   "source": [
    "# Check\n",
    "makes_twenty(2,3)"
   ]
  },
  {
   "cell_type": "code",
   "execution_count": null,
   "id": "e98ef706",
   "metadata": {},
   "outputs": [],
   "source": [
    "OLD MACDONALD: Write a function that capitalizes the first and fourth letters of a name\n",
    " \n",
    "old_macdonald('macdonald') --> MacDonald\n",
    "Note: 'macdonald'.capitalize() returns 'Macdonald'"
   ]
  },
  {
   "cell_type": "code",
   "execution_count": 10,
   "id": "6c960ff1",
   "metadata": {},
   "outputs": [],
   "source": [
    "def old_macdonald(name):\n",
    "    pass"
   ]
  },
  {
   "cell_type": "code",
   "execution_count": 11,
   "id": "74a28f77",
   "metadata": {},
   "outputs": [],
   "source": [
    "# Check\n",
    "old_macdonald('macdonald')"
   ]
  },
  {
   "cell_type": "code",
   "execution_count": null,
   "id": "c41d0bf9",
   "metadata": {},
   "outputs": [],
   "source": [
    "MASTER YODA: Given a sentence, return a sentence with the words reversed"
   ]
  },
  {
   "cell_type": "code",
   "execution_count": 12,
   "id": "c71a1961",
   "metadata": {},
   "outputs": [],
   "source": [
    "def master_yoda(text):\n",
    "    pass"
   ]
  },
  {
   "cell_type": "code",
   "execution_count": 13,
   "id": "63ba45af",
   "metadata": {},
   "outputs": [],
   "source": [
    "# Check\n",
    "master_yoda('We are ready')"
   ]
  },
  {
   "cell_type": "code",
   "execution_count": null,
   "id": "5542f35b",
   "metadata": {},
   "outputs": [],
   "source": [
    "ALMOST THERE: Given an integer n, return True if n is within 10 of either 100 or 200\n",
    "almost_there(90) --> True\n",
    "almost_there(104) --> True\n",
    "almost_there(150) --> False\n",
    "almost_there(209) --> True\n",
    "NOTE: abs(num) returns the absolute value of a number"
   ]
  },
  {
   "cell_type": "code",
   "execution_count": 14,
   "id": "0fdd24f9",
   "metadata": {},
   "outputs": [],
   "source": [
    "def almost_there(n):\n",
    "    pass"
   ]
  },
  {
   "cell_type": "code",
   "execution_count": 15,
   "id": "4458d5b1",
   "metadata": {},
   "outputs": [],
   "source": [
    "# Check\n",
    "almost_there(104)"
   ]
  },
  {
   "cell_type": "code",
   "execution_count": 16,
   "id": "ddb123e8",
   "metadata": {},
   "outputs": [],
   "source": [
    "# Check\n",
    "almost_there(150)"
   ]
  },
  {
   "cell_type": "code",
   "execution_count": 17,
   "id": "6a636767",
   "metadata": {},
   "outputs": [],
   "source": [
    "# Check\n",
    "almost_there(209)"
   ]
  },
  {
   "cell_type": "code",
   "execution_count": null,
   "id": "857e689e",
   "metadata": {},
   "outputs": [],
   "source": [
    "Given a list of ints, return True if the array contains a 3 next to a 3 somewhere.\n",
    "\n",
    "has_33([1, 3, 3]) → True\n",
    "has_33([1, 3, 1, 3]) → False\n",
    "has_33([3, 1, 3]) → False"
   ]
  },
  {
   "cell_type": "code",
   "execution_count": 18,
   "id": "938e4e99",
   "metadata": {},
   "outputs": [],
   "source": [
    "def has_33(nums):\n",
    "    pass"
   ]
  },
  {
   "cell_type": "code",
   "execution_count": 19,
   "id": "80d7ef45",
   "metadata": {},
   "outputs": [],
   "source": [
    "# Check\n",
    "has_33([1, 3, 3])"
   ]
  },
  {
   "cell_type": "code",
   "execution_count": 20,
   "id": "f22692e0",
   "metadata": {},
   "outputs": [],
   "source": [
    "# Check\n",
    "has_33([1, 3, 1, 3])"
   ]
  },
  {
   "cell_type": "code",
   "execution_count": 21,
   "id": "368ef747",
   "metadata": {},
   "outputs": [],
   "source": [
    "# Check\n",
    "has_33([3, 1, 3])"
   ]
  },
  {
   "cell_type": "markdown",
   "id": "bedc7d34",
   "metadata": {},
   "source": [
    "PAPER DOLL: Given a string, return a string where for every character \n",
    "in the original there are three characters"
   ]
  },
  {
   "cell_type": "code",
   "execution_count": 22,
   "id": "9bd4168c",
   "metadata": {},
   "outputs": [],
   "source": [
    "def paper_doll(text):\n",
    "    pass"
   ]
  },
  {
   "cell_type": "code",
   "execution_count": 23,
   "id": "6545f2db",
   "metadata": {},
   "outputs": [],
   "source": [
    "# Check\n",
    "paper_doll('Hello')"
   ]
  },
  {
   "cell_type": "code",
   "execution_count": 24,
   "id": "2fdb3a07",
   "metadata": {},
   "outputs": [],
   "source": [
    "# Check\n",
    "paper_doll('Mississippi')"
   ]
  },
  {
   "cell_type": "markdown",
   "id": "f5aaa3c9",
   "metadata": {},
   "source": [
    "BLACKJACK: Given three integers between 1 and 11, if their sum is less \n",
    "than or equal to 21, return their sum. If their sum exceeds 21and there's \n",
    "an eleven,reduce the total sum by 10. Finally, if the sum (even after adjustment) \n",
    "exceeds 21, return 'BUST"
   ]
  },
  {
   "cell_type": "code",
   "execution_count": 25,
   "id": "c8ceea2f",
   "metadata": {},
   "outputs": [],
   "source": [
    "def blackjack(a,b,c):\n",
    "    pass"
   ]
  },
  {
   "cell_type": "code",
   "execution_count": 26,
   "id": "49b4921d",
   "metadata": {},
   "outputs": [],
   "source": [
    "# Check\n",
    "blackjack(5,6,7)"
   ]
  },
  {
   "cell_type": "markdown",
   "id": "12c356c9",
   "metadata": {},
   "source": [
    "# Check\n",
    "blackjack(9,9,9)"
   ]
  },
  {
   "cell_type": "code",
   "execution_count": 28,
   "id": "d192aa74",
   "metadata": {},
   "outputs": [],
   "source": [
    "# Check\n",
    "blackjack(9,9,11)"
   ]
  },
  {
   "cell_type": "markdown",
   "id": "6ab374b6",
   "metadata": {},
   "source": [
    "SUMMER OF '69: Return the sum of the numbers in the array, except ignore sections of numbers starting with a 6 and extending to the next 9 (every 6 will be followed by at least one 9). Return 0 for no numbers."
   ]
  },
  {
   "cell_type": "code",
   "execution_count": 29,
   "id": "00dbca48",
   "metadata": {},
   "outputs": [],
   "source": [
    "def summer_69(arr):\n",
    "    pass"
   ]
  },
  {
   "cell_type": "code",
   "execution_count": 30,
   "id": "d2ec0a7a",
   "metadata": {},
   "outputs": [],
   "source": [
    "# Check\n",
    "summer_69([1, 3, 5])"
   ]
  },
  {
   "cell_type": "code",
   "execution_count": 31,
   "id": "4c3755d8",
   "metadata": {},
   "outputs": [],
   "source": [
    "# Check\n",
    "summer_69([4, 5, 6, 7, 8, 9])"
   ]
  },
  {
   "cell_type": "code",
   "execution_count": 32,
   "id": "6c9ab742",
   "metadata": {},
   "outputs": [],
   "source": [
    "# Check\n",
    "summer_69([2, 1, 6, 9, 11])"
   ]
  },
  {
   "cell_type": "code",
   "execution_count": null,
   "id": "ce464d2a",
   "metadata": {},
   "outputs": [],
   "source": [
    "SPY GAME: Write a function that takes in a list of integers and returns True if it contains 007 in order\n",
    " spy_game([1,2,4,0,0,7,5]) --> True\n",
    " spy_game([1,0,2,4,0,5,7]) --> True\n",
    " spy_game([1,7,2,0,4,5,0]) --> False"
   ]
  },
  {
   "cell_type": "code",
   "execution_count": 35,
   "id": "905648d1",
   "metadata": {},
   "outputs": [],
   "source": [
    "def spy_game(nums):\n",
    "    pass"
   ]
  },
  {
   "cell_type": "code",
   "execution_count": 36,
   "id": "250efa68",
   "metadata": {},
   "outputs": [],
   "source": [
    "# Check\n",
    "spy_game([1,2,4,0,0,7,5])"
   ]
  },
  {
   "cell_type": "code",
   "execution_count": 37,
   "id": "ff7c6837",
   "metadata": {},
   "outputs": [],
   "source": [
    "# Check\n",
    "spy_game([1,0,2,4,0,5,7])"
   ]
  },
  {
   "cell_type": "code",
   "execution_count": 38,
   "id": "f1329474",
   "metadata": {},
   "outputs": [],
   "source": [
    "# Check\n",
    "spy_game([1,7,2,0,4,5,0])"
   ]
  },
  {
   "cell_type": "markdown",
   "id": "c383df8f",
   "metadata": {},
   "source": [
    "COUNT PRIMES: Write a function that returns the number of prime numbers that exist up to and including a given number\n",
    "\n",
    "count_primes(100) --> 25"
   ]
  },
  {
   "cell_type": "code",
   "execution_count": 39,
   "id": "4f84f21c",
   "metadata": {},
   "outputs": [],
   "source": [
    "def count_primes(num):\n",
    "    pass\n",
    "          "
   ]
  },
  {
   "cell_type": "code",
   "execution_count": 40,
   "id": "5544bad5",
   "metadata": {},
   "outputs": [],
   "source": [
    "# Check\n",
    "count_primes(100)"
   ]
  },
  {
   "cell_type": "markdown",
   "id": "ca9341ac",
   "metadata": {},
   "source": [
    "PRINT BIG: Write a function that takes in a single letter, and returns a 5x5 representation of that letter"
   ]
  },
  {
   "cell_type": "code",
   "execution_count": 41,
   "id": "3990d61c",
   "metadata": {},
   "outputs": [],
   "source": [
    "def print_big(letter):\n",
    "    pass"
   ]
  },
  {
   "cell_type": "code",
   "execution_count": 42,
   "id": "f2de35bd",
   "metadata": {},
   "outputs": [],
   "source": [
    "print_big('a')"
   ]
  },
  {
   "cell_type": "code",
   "execution_count": null,
   "id": "6d7b997c",
   "metadata": {},
   "outputs": [],
   "source": []
  },
  {
   "cell_type": "code",
   "execution_count": null,
   "id": "ae2c4aa4",
   "metadata": {},
   "outputs": [],
   "source": []
  },
  {
   "cell_type": "code",
   "execution_count": null,
   "id": "d0f90ab9",
   "metadata": {},
   "outputs": [],
   "source": []
  },
  {
   "cell_type": "code",
   "execution_count": null,
   "id": "43c39c53",
   "metadata": {},
   "outputs": [],
   "source": []
  }
 ],
 "metadata": {
  "kernelspec": {
   "display_name": "Python 3 (ipykernel)",
   "language": "python",
   "name": "python3"
  },
  "language_info": {
   "codemirror_mode": {
    "name": "ipython",
    "version": 3
   },
   "file_extension": ".py",
   "mimetype": "text/x-python",
   "name": "python",
   "nbconvert_exporter": "python",
   "pygments_lexer": "ipython3",
   "version": "3.9.12"
  }
 },
 "nbformat": 4,
 "nbformat_minor": 5
}
