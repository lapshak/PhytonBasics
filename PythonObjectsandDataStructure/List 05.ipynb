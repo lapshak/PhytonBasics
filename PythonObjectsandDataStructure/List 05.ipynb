{
 "cells": [
  {
   "cell_type": "code",
   "execution_count": 3,
   "id": "562d2b2c",
   "metadata": {},
   "outputs": [],
   "source": [
    "# Assign a list to an variable named my_list\n",
    "mylist = [1,2,3]"
   ]
  },
  {
   "cell_type": "code",
   "execution_count": 4,
   "id": "e8cae16a",
   "metadata": {},
   "outputs": [],
   "source": [
    "my_list = ['A string',23,100.232,'o']"
   ]
  },
  {
   "cell_type": "code",
   "execution_count": 5,
   "id": "794324fd",
   "metadata": {},
   "outputs": [
    {
     "data": {
      "text/plain": [
       "3"
      ]
     },
     "execution_count": 5,
     "metadata": {},
     "output_type": "execute_result"
    }
   ],
   "source": [
    "len (mylist)"
   ]
  },
  {
   "cell_type": "code",
   "execution_count": 6,
   "id": "4d35c4c6",
   "metadata": {},
   "outputs": [
    {
     "data": {
      "text/plain": [
       "4"
      ]
     },
     "execution_count": 6,
     "metadata": {},
     "output_type": "execute_result"
    }
   ],
   "source": [
    "len (my_list) "
   ]
  },
  {
   "cell_type": "markdown",
   "id": "83aaad21",
   "metadata": {},
   "source": [
    "Indexing and Slicing"
   ]
  },
  {
   "cell_type": "code",
   "execution_count": 1,
   "id": "2874416c",
   "metadata": {},
   "outputs": [],
   "source": [
    "mylist = ['one', 'two', 'three',4,5]"
   ]
  },
  {
   "cell_type": "code",
   "execution_count": 3,
   "id": "0df05090",
   "metadata": {},
   "outputs": [
    {
     "data": {
      "text/plain": [
       "'one'"
      ]
     },
     "execution_count": 3,
     "metadata": {},
     "output_type": "execute_result"
    }
   ],
   "source": [
    "# Grab element at index 0\n",
    "mylist[0]"
   ]
  },
  {
   "cell_type": "code",
   "execution_count": 5,
   "id": "1181f4dd",
   "metadata": {},
   "outputs": [
    {
     "data": {
      "text/plain": [
       "['two', 'three', 4, 5]"
      ]
     },
     "execution_count": 5,
     "metadata": {},
     "output_type": "execute_result"
    }
   ],
   "source": [
    "# Grab index 1 and everything past it\n",
    "mylist[1:]"
   ]
  },
  {
   "cell_type": "code",
   "execution_count": 6,
   "id": "a84bd77c",
   "metadata": {},
   "outputs": [
    {
     "data": {
      "text/plain": [
       "['one', 'two', 'three']"
      ]
     },
     "execution_count": 6,
     "metadata": {},
     "output_type": "execute_result"
    }
   ],
   "source": [
    "# Grab everything UP TO index 3\n",
    "mylist[:3]"
   ]
  },
  {
   "cell_type": "code",
   "execution_count": 7,
   "id": "4bcb75fb",
   "metadata": {},
   "outputs": [
    {
     "data": {
      "text/plain": [
       "['one', 'two', 'three', 4, 5, 'new item']"
      ]
     },
     "execution_count": 7,
     "metadata": {},
     "output_type": "execute_result"
    }
   ],
   "source": [
    "mylist + ['new item'] #We can also use + to concatenate lists, just like we did for strings."
   ]
  },
  {
   "cell_type": "code",
   "execution_count": 8,
   "id": "f7500c36",
   "metadata": {},
   "outputs": [
    {
     "data": {
      "text/plain": [
       "['one', 'two', 'three', 4, 5]"
      ]
     },
     "execution_count": 8,
     "metadata": {},
     "output_type": "execute_result"
    }
   ],
   "source": [
    "mylist #Note: This doesn't actually change the original list!"
   ]
  },
  {
   "cell_type": "code",
   "execution_count": 9,
   "id": "15625f3c",
   "metadata": {},
   "outputs": [],
   "source": [
    "mylist = mylist + ['add new item permanently'] # Reassign"
   ]
  },
  {
   "cell_type": "code",
   "execution_count": 10,
   "id": "805253b2",
   "metadata": {},
   "outputs": [
    {
     "data": {
      "text/plain": [
       "['one', 'two', 'three', 4, 5, 'add new item permanently']"
      ]
     },
     "execution_count": 10,
     "metadata": {},
     "output_type": "execute_result"
    }
   ],
   "source": [
    "mylist"
   ]
  },
  {
   "cell_type": "code",
   "execution_count": 12,
   "id": "c06b32d5",
   "metadata": {},
   "outputs": [
    {
     "data": {
      "text/plain": [
       "['one',\n",
       " 'two',\n",
       " 'three',\n",
       " 4,\n",
       " 5,\n",
       " 'add new item permanently',\n",
       " 'one',\n",
       " 'two',\n",
       " 'three',\n",
       " 4,\n",
       " 5,\n",
       " 'add new item permanently']"
      ]
     },
     "execution_count": 12,
     "metadata": {},
     "output_type": "execute_result"
    }
   ],
   "source": [
    "# Make the list double\n",
    "mylist * 2"
   ]
  },
  {
   "cell_type": "code",
   "execution_count": 14,
   "id": "66ddb379",
   "metadata": {},
   "outputs": [
    {
     "data": {
      "text/plain": [
       "['one', 'two', 'three', 4, 5, 'add new item permanently']"
      ]
     },
     "execution_count": 14,
     "metadata": {},
     "output_type": "execute_result"
    }
   ],
   "source": [
    "# Note Again doubling not permanent\n",
    "mylist"
   ]
  },
  {
   "cell_type": "raw",
   "id": "1f6d5c12",
   "metadata": {},
   "source": [
    "Append \n",
    "Use the append method to permanently add an item to the end of a list:"
   ]
  },
  {
   "cell_type": "code",
   "execution_count": 1,
   "id": "32edb1c0",
   "metadata": {},
   "outputs": [],
   "source": [
    "my_list = [1,2,3,4,5,6]"
   ]
  },
  {
   "cell_type": "code",
   "execution_count": 4,
   "id": "98cdb7e7",
   "metadata": {},
   "outputs": [],
   "source": [
    "my_list.append(7)"
   ]
  },
  {
   "cell_type": "code",
   "execution_count": 5,
   "id": "96257d28",
   "metadata": {},
   "outputs": [
    {
     "data": {
      "text/plain": [
       "[1, 2, 3, 4, 5, 6, 7]"
      ]
     },
     "execution_count": 5,
     "metadata": {},
     "output_type": "execute_result"
    }
   ],
   "source": [
    "my_list"
   ]
  },
  {
   "cell_type": "raw",
   "id": "bae25aaa",
   "metadata": {},
   "source": [
    "Use pop to \"pop off\" an item from the list. \n",
    "By default pop takes off the last index, but you can also specify which index to pop off."
   ]
  },
  {
   "cell_type": "code",
   "execution_count": 6,
   "id": "5f454110",
   "metadata": {},
   "outputs": [
    {
     "data": {
      "text/plain": [
       "7"
      ]
     },
     "execution_count": 6,
     "metadata": {},
     "output_type": "execute_result"
    }
   ],
   "source": [
    "my_list.pop()"
   ]
  },
  {
   "cell_type": "code",
   "execution_count": 7,
   "id": "f1b0bbae",
   "metadata": {},
   "outputs": [
    {
     "data": {
      "text/plain": [
       "[1, 2, 3, 4, 5, 6]"
      ]
     },
     "execution_count": 7,
     "metadata": {},
     "output_type": "execute_result"
    }
   ],
   "source": [
    "my_list"
   ]
  },
  {
   "cell_type": "code",
   "execution_count": 8,
   "id": "341cf508",
   "metadata": {},
   "outputs": [
    {
     "data": {
      "text/plain": [
       "1"
      ]
     },
     "execution_count": 8,
     "metadata": {},
     "output_type": "execute_result"
    }
   ],
   "source": [
    "my_list.pop(0) # Pop off the 0 indexed item"
   ]
  },
  {
   "cell_type": "code",
   "execution_count": 9,
   "id": "864339c9",
   "metadata": {},
   "outputs": [
    {
     "data": {
      "text/plain": [
       "[2, 3, 4, 5, 6]"
      ]
     },
     "execution_count": 9,
     "metadata": {},
     "output_type": "execute_result"
    }
   ],
   "source": [
    "my_list"
   ]
  },
  {
   "cell_type": "markdown",
   "id": "f529b962",
   "metadata": {},
   "source": [
    "We can use the sort method and the reverse methods to also effect your lists:"
   ]
  },
  {
   "cell_type": "code",
   "execution_count": 10,
   "id": "5a621a6e",
   "metadata": {},
   "outputs": [],
   "source": [
    "new_list = ['a','e','x','b','c']"
   ]
  },
  {
   "cell_type": "code",
   "execution_count": 11,
   "id": "b85c3361",
   "metadata": {},
   "outputs": [],
   "source": [
    "new_list.reverse() # Use reverse to reverse order (this is permanent!)"
   ]
  },
  {
   "cell_type": "code",
   "execution_count": 13,
   "id": "75baf327",
   "metadata": {},
   "outputs": [
    {
     "data": {
      "text/plain": [
       "['c', 'b', 'x', 'e', 'a']"
      ]
     },
     "execution_count": 13,
     "metadata": {},
     "output_type": "execute_result"
    }
   ],
   "source": [
    "new_list"
   ]
  },
  {
   "cell_type": "code",
   "execution_count": 14,
   "id": "60bba66e",
   "metadata": {},
   "outputs": [],
   "source": [
    "new_list.reverse() # it continues to change as you reverse "
   ]
  },
  {
   "cell_type": "code",
   "execution_count": 15,
   "id": "b5e3d1aa",
   "metadata": {},
   "outputs": [
    {
     "data": {
      "text/plain": [
       "['a', 'e', 'x', 'b', 'c']"
      ]
     },
     "execution_count": 15,
     "metadata": {},
     "output_type": "execute_result"
    }
   ],
   "source": [
    "new_list"
   ]
  },
  {
   "cell_type": "code",
   "execution_count": 16,
   "id": "1f7f2837",
   "metadata": {},
   "outputs": [],
   "source": [
    "new_list.sort() # Use sort to sort the list (in this case alphabetical order, but for numbers it will go ascending)"
   ]
  },
  {
   "cell_type": "code",
   "execution_count": 17,
   "id": "5cad7df7",
   "metadata": {},
   "outputs": [
    {
     "data": {
      "text/plain": [
       "['a', 'b', 'c', 'e', 'x']"
      ]
     },
     "execution_count": 17,
     "metadata": {},
     "output_type": "execute_result"
    }
   ],
   "source": [
    "new_list"
   ]
  },
  {
   "cell_type": "code",
   "execution_count": 20,
   "id": "b0e74489",
   "metadata": {},
   "outputs": [],
   "source": [
    "new_list = [2,5,1,4,8,6,7,3]"
   ]
  },
  {
   "cell_type": "code",
   "execution_count": 21,
   "id": "253a1746",
   "metadata": {},
   "outputs": [],
   "source": [
    "new_list.sort()"
   ]
  },
  {
   "cell_type": "code",
   "execution_count": 22,
   "id": "45ef71b0",
   "metadata": {},
   "outputs": [
    {
     "data": {
      "text/plain": [
       "[1, 2, 3, 4, 5, 6, 7, 8]"
      ]
     },
     "execution_count": 22,
     "metadata": {},
     "output_type": "execute_result"
    }
   ],
   "source": [
    "new_list "
   ]
  },
  {
   "cell_type": "raw",
   "id": "d6847a3a",
   "metadata": {},
   "source": [
    "Nesting Lists\n",
    "A great feature of of Python data structures is that they support nesting. \n",
    "This means we can have data structures within data structures. For example: A list inside a list."
   ]
  },
  {
   "cell_type": "code",
   "execution_count": 23,
   "id": "b020ee3c",
   "metadata": {},
   "outputs": [],
   "source": [
    "lst_1 = [1,2,3]\n",
    "lst_2 = [4,5,6]\n",
    "lst_3 = [7,8,9]\n"
   ]
  },
  {
   "cell_type": "code",
   "execution_count": 24,
   "id": "c34d2cee",
   "metadata": {},
   "outputs": [],
   "source": [
    "matrix = [lst_1,lst_2,lst_3] # Make a list of lists to form a matrix"
   ]
  },
  {
   "cell_type": "code",
   "execution_count": 25,
   "id": "47a29379",
   "metadata": {},
   "outputs": [
    {
     "data": {
      "text/plain": [
       "[[1, 2, 3], [4, 5, 6], [7, 8, 9]]"
      ]
     },
     "execution_count": 25,
     "metadata": {},
     "output_type": "execute_result"
    }
   ],
   "source": [
    "matrix"
   ]
  },
  {
   "cell_type": "code",
   "execution_count": 26,
   "id": "ac91e344",
   "metadata": {},
   "outputs": [
    {
     "data": {
      "text/plain": [
       "[1, 2, 3]"
      ]
     },
     "execution_count": 26,
     "metadata": {},
     "output_type": "execute_result"
    }
   ],
   "source": [
    "# Grab first item in matrix object\n",
    "matrix[0]"
   ]
  },
  {
   "cell_type": "code",
   "execution_count": 27,
   "id": "2af7ec29",
   "metadata": {},
   "outputs": [
    {
     "data": {
      "text/plain": [
       "1"
      ]
     },
     "execution_count": 27,
     "metadata": {},
     "output_type": "execute_result"
    }
   ],
   "source": [
    "# Grab first item of the first item in the matrix object\n",
    "matrix[0][0]"
   ]
  },
  {
   "cell_type": "markdown",
   "id": "3f6efcdd",
   "metadata": {},
   "source": [
    "List Comprehensions"
   ]
  },
  {
   "cell_type": "code",
   "execution_count": 28,
   "id": "4af334d6",
   "metadata": {},
   "outputs": [],
   "source": [
    "# Build a list comprehension by deconstructing a for loop within a []\n",
    "first_col = [row[0] for row in matrix]"
   ]
  },
  {
   "cell_type": "code",
   "execution_count": 29,
   "id": "0f6b667a",
   "metadata": {},
   "outputs": [
    {
     "data": {
      "text/plain": [
       "[1, 4, 7]"
      ]
     },
     "execution_count": 29,
     "metadata": {},
     "output_type": "execute_result"
    }
   ],
   "source": [
    "first_col"
   ]
  },
  {
   "cell_type": "code",
   "execution_count": 30,
   "id": "afeb3c5e",
   "metadata": {},
   "outputs": [],
   "source": [
    "first_col = [row[1] for row in matrix]"
   ]
  },
  {
   "cell_type": "code",
   "execution_count": 31,
   "id": "69483898",
   "metadata": {},
   "outputs": [
    {
     "data": {
      "text/plain": [
       "[2, 5, 8]"
      ]
     },
     "execution_count": 31,
     "metadata": {},
     "output_type": "execute_result"
    }
   ],
   "source": [
    "first_col"
   ]
  },
  {
   "cell_type": "code",
   "execution_count": 32,
   "id": "5191433f",
   "metadata": {},
   "outputs": [],
   "source": [
    "first_col = [row[2] for row in matrix]"
   ]
  },
  {
   "cell_type": "code",
   "execution_count": 33,
   "id": "4eb7fc24",
   "metadata": {},
   "outputs": [
    {
     "data": {
      "text/plain": [
       "[3, 6, 9]"
      ]
     },
     "execution_count": 33,
     "metadata": {},
     "output_type": "execute_result"
    }
   ],
   "source": [
    "first_col"
   ]
  },
  {
   "cell_type": "code",
   "execution_count": null,
   "id": "c7e7550c",
   "metadata": {},
   "outputs": [],
   "source": []
  }
 ],
 "metadata": {
  "kernelspec": {
   "display_name": "Python 3 (ipykernel)",
   "language": "python",
   "name": "python3"
  },
  "language_info": {
   "codemirror_mode": {
    "name": "ipython",
    "version": 3
   },
   "file_extension": ".py",
   "mimetype": "text/x-python",
   "name": "python",
   "nbconvert_exporter": "python",
   "pygments_lexer": "ipython3",
   "version": "3.9.12"
  }
 },
 "nbformat": 4,
 "nbformat_minor": 5
}
