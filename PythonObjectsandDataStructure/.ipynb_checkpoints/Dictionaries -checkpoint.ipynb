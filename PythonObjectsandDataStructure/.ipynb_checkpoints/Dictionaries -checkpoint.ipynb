{
 "cells": [
  {
   "cell_type": "code",
   "execution_count": 1,
   "id": "64030fcc",
   "metadata": {},
   "outputs": [],
   "source": [
    "# Make a dictionary with {} and : to signify a key and a value\n",
    "my_dict = {'key1':'value1','key2':'value2'}"
   ]
  },
  {
   "cell_type": "code",
   "execution_count": 2,
   "id": "9b871d42",
   "metadata": {},
   "outputs": [
    {
     "data": {
      "text/plain": [
       "'value1'"
      ]
     },
     "execution_count": 2,
     "metadata": {},
     "output_type": "execute_result"
    }
   ],
   "source": [
    "my_dict['key1']"
   ]
  },
  {
   "cell_type": "code",
   "execution_count": 3,
   "id": "410b29bd",
   "metadata": {},
   "outputs": [],
   "source": [
    "my_dict = {'key1':123,'key2':[12,23,33],'key3':['item0','item1','item2']}"
   ]
  },
  {
   "cell_type": "code",
   "execution_count": 4,
   "id": "eeabcb2a",
   "metadata": {},
   "outputs": [
    {
     "data": {
      "text/plain": [
       "['item0', 'item1', 'item2']"
      ]
     },
     "execution_count": 4,
     "metadata": {},
     "output_type": "execute_result"
    }
   ],
   "source": [
    "my_dict['key3']"
   ]
  },
  {
   "cell_type": "code",
   "execution_count": 5,
   "id": "d21eac74",
   "metadata": {},
   "outputs": [
    {
     "data": {
      "text/plain": [
       "'item0'"
      ]
     },
     "execution_count": 5,
     "metadata": {},
     "output_type": "execute_result"
    }
   ],
   "source": [
    "my_dict['key3'][0] # Can call an index on that value"
   ]
  },
  {
   "cell_type": "code",
   "execution_count": 6,
   "id": "d9b8a330",
   "metadata": {},
   "outputs": [
    {
     "data": {
      "text/plain": [
       "'ITEM0'"
      ]
     },
     "execution_count": 6,
     "metadata": {},
     "output_type": "execute_result"
    }
   ],
   "source": [
    "my_dict['key3'][0].upper() # Can then even call methods on that value"
   ]
  },
  {
   "cell_type": "code",
   "execution_count": 7,
   "id": "6c85a763",
   "metadata": {},
   "outputs": [],
   "source": [
    "my_dict1= {'key1':'Rit', 'key2': [0,1,2,3], 'key3':2023 }"
   ]
  },
  {
   "cell_type": "code",
   "execution_count": 8,
   "id": "7d2fa9a7",
   "metadata": {},
   "outputs": [
    {
     "data": {
      "text/plain": [
       "'RIT'"
      ]
     },
     "execution_count": 8,
     "metadata": {},
     "output_type": "execute_result"
    }
   ],
   "source": [
    "my_dict1['key1'].upper()"
   ]
  },
  {
   "cell_type": "code",
   "execution_count": 9,
   "id": "268567b7",
   "metadata": {},
   "outputs": [
    {
     "data": {
      "text/plain": [
       "123"
      ]
     },
     "execution_count": 9,
     "metadata": {},
     "output_type": "execute_result"
    }
   ],
   "source": [
    "my_dict['key1']"
   ]
  },
  {
   "cell_type": "code",
   "execution_count": 10,
   "id": "f8960805",
   "metadata": {},
   "outputs": [],
   "source": [
    "# Subtract 123 from the value\n",
    "my_dict['key1'] = my_dict['key1'] - 123"
   ]
  },
  {
   "cell_type": "code",
   "execution_count": 11,
   "id": "9e8ec097",
   "metadata": {},
   "outputs": [
    {
     "data": {
      "text/plain": [
       "0"
      ]
     },
     "execution_count": 11,
     "metadata": {},
     "output_type": "execute_result"
    }
   ],
   "source": [
    "#Check\n",
    "my_dict['key1']"
   ]
  },
  {
   "cell_type": "code",
   "execution_count": 12,
   "id": "2c0ac5e4",
   "metadata": {},
   "outputs": [
    {
     "data": {
      "text/plain": [
       "2023"
      ]
     },
     "execution_count": 12,
     "metadata": {},
     "output_type": "execute_result"
    }
   ],
   "source": [
    "# another one\n",
    "my_dict1['key3'] "
   ]
  },
  {
   "cell_type": "code",
   "execution_count": 13,
   "id": "57d68b9a",
   "metadata": {},
   "outputs": [],
   "source": [
    "my_dict1['key3'] = my_dict1['key3'] - 2023"
   ]
  },
  {
   "cell_type": "code",
   "execution_count": 14,
   "id": "5fd86caf",
   "metadata": {},
   "outputs": [
    {
     "data": {
      "text/plain": [
       "0"
      ]
     },
     "execution_count": 14,
     "metadata": {},
     "output_type": "execute_result"
    }
   ],
   "source": [
    "my_dict1['key3']"
   ]
  },
  {
   "cell_type": "code",
   "execution_count": 15,
   "id": "7766c88f",
   "metadata": {},
   "outputs": [
    {
     "data": {
      "text/plain": [
       "-123"
      ]
     },
     "execution_count": 15,
     "metadata": {},
     "output_type": "execute_result"
    }
   ],
   "source": [
    "# Set the object equal to itself minus 123 \n",
    "my_dict['key1'] -= 123\n",
    "my_dict['key1']"
   ]
  },
  {
   "cell_type": "code",
   "execution_count": 16,
   "id": "01897175",
   "metadata": {},
   "outputs": [],
   "source": [
    "# Create a new dictionary\n",
    "d = {}"
   ]
  },
  {
   "cell_type": "code",
   "execution_count": 17,
   "id": "cca2f455",
   "metadata": {},
   "outputs": [],
   "source": [
    "# Create a new key through assignment\n",
    "d['animal'] = 'Dog'"
   ]
  },
  {
   "cell_type": "code",
   "execution_count": 18,
   "id": "ef97cd10",
   "metadata": {},
   "outputs": [],
   "source": [
    "# Can do this with any object\n",
    "d['answer'] = 42"
   ]
  },
  {
   "cell_type": "code",
   "execution_count": 19,
   "id": "3bdc5fa2",
   "metadata": {},
   "outputs": [
    {
     "data": {
      "text/plain": [
       "{'animal': 'Dog', 'answer': 42}"
      ]
     },
     "execution_count": 19,
     "metadata": {},
     "output_type": "execute_result"
    }
   ],
   "source": [
    "#Show\n",
    "d"
   ]
  },
  {
   "cell_type": "code",
   "execution_count": null,
   "id": "0a9e2c78",
   "metadata": {},
   "outputs": [],
   "source": []
  },
  {
   "cell_type": "code",
   "execution_count": null,
   "id": "936bcdba",
   "metadata": {},
   "outputs": [],
   "source": []
  }
 ],
 "metadata": {
  "kernelspec": {
   "display_name": "Python 3 (ipykernel)",
   "language": "python",
   "name": "python3"
  },
  "language_info": {
   "codemirror_mode": {
    "name": "ipython",
    "version": 3
   },
   "file_extension": ".py",
   "mimetype": "text/x-python",
   "name": "python",
   "nbconvert_exporter": "python",
   "pygments_lexer": "ipython3",
   "version": "3.9.12"
  }
 },
 "nbformat": 4,
 "nbformat_minor": 5
}
