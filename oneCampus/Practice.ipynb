{
 "cells": [
  {
   "cell_type": "code",
   "execution_count": 1,
   "id": "c11e0d26",
   "metadata": {},
   "outputs": [
    {
     "data": {
      "text/plain": [
       "int"
      ]
     },
     "execution_count": 1,
     "metadata": {},
     "output_type": "execute_result"
    }
   ],
   "source": [
    "y = 7\n",
    "\n",
    "type(y)"
   ]
  },
  {
   "cell_type": "code",
   "execution_count": 2,
   "id": "197662fd",
   "metadata": {},
   "outputs": [
    {
     "data": {
      "text/plain": [
       "float"
      ]
     },
     "execution_count": 2,
     "metadata": {},
     "output_type": "execute_result"
    }
   ],
   "source": [
    "y = 5.443\n",
    "type(y)"
   ]
  },
  {
   "cell_type": "code",
   "execution_count": 3,
   "id": "c1f7415a",
   "metadata": {},
   "outputs": [
    {
     "data": {
      "text/plain": [
       "str"
      ]
     },
     "execution_count": 3,
     "metadata": {},
     "output_type": "execute_result"
    }
   ],
   "source": [
    "y ='the main issue'\n",
    "\n",
    "type(y)"
   ]
  },
  {
   "cell_type": "code",
   "execution_count": null,
   "id": "d5f47242",
   "metadata": {},
   "outputs": [],
   "source": [
    "scenario 1\n",
    "speedLimit = 35\n",
    "speedAboveLimit = 10\n",
    "numTicket = 2 "
   ]
  },
  {
   "cell_type": "code",
   "execution_count": null,
   "id": "ab351d73",
   "metadata": {},
   "outputs": [],
   "source": [
    "Scenario 2\n",
    "dName = 'Barakat'\n",
    "pName = 'James'\n",
    "numDeer = 3\n",
    "numHit = 2\n",
    "numDied = 1\n",
    "ticketType = 'dangerous driving'\n",
    "numTicket = 1\n",
    "roadType = 'feeway'"
   ]
  },
  {
   "cell_type": "code",
   "execution_count": null,
   "id": "a396390a",
   "metadata": {},
   "outputs": [],
   "source": [
    "# Operators\n",
    "+ addition\n",
    "- subtraction\n",
    "* multiplication\n",
    "== equivalent\n",
    "// modulus\n",
    "% remainder\n",
    "+= complex addition\n",
    "-= complex subtraction"
   ]
  },
  {
   "cell_type": "code",
   "execution_count": 4,
   "id": "a11c0a29",
   "metadata": {},
   "outputs": [],
   "source": [
    "debtorName = 'Nchedu'\n",
    "creditorName = 'Lilian'\n",
    "monthlySalary = 5000\n",
    "rent = 700\n",
    "food = 500\n",
    "uBills = 300\n",
    "debt = 2000\n",
    "percDedtPayOff = 0.6"
   ]
  },
  {
   "cell_type": "code",
   "execution_count": 6,
   "id": "fae681f5",
   "metadata": {},
   "outputs": [
    {
     "name": "stdout",
     "output_type": "stream",
     "text": [
      "1500\n",
      "1200.0\n"
     ]
    }
   ],
   "source": [
    "mExpenses = rent + food + uBills\n",
    "debtPaid = debt * percDedtPayOff \n",
    "print(mExpenses)\n",
    "print(debtPaid)"
   ]
  },
  {
   "cell_type": "code",
   "execution_count": 8,
   "id": "b44f0cc5",
   "metadata": {},
   "outputs": [
    {
     "name": "stdout",
     "output_type": "stream",
     "text": [
      "2300.0\n"
     ]
    }
   ],
   "source": [
    "savings = (monthlySalary - (mExpenses + debtPaid ))\n",
    "print(savings)"
   ]
  },
  {
   "cell_type": "code",
   "execution_count": 13,
   "id": "fc43fdc6",
   "metadata": {},
   "outputs": [
    {
     "name": "stdout",
     "output_type": "stream",
     "text": [
      "71\n",
      "3\n"
     ]
    }
   ],
   "source": [
    "#Scenario 4\n",
    "\n",
    "numOranges = 500\n",
    "numFriends = 7\n",
    "\n",
    "val1 = numOranges // numFriends\n",
    "val2 = numOranges % numFriends\n",
    "\n",
    "print(val1)\n",
    "print(val2)"
   ]
  },
  {
   "cell_type": "code",
   "execution_count": 14,
   "id": "0526d730",
   "metadata": {},
   "outputs": [
    {
     "data": {
      "text/plain": [
       "'Jerry'"
      ]
     },
     "execution_count": 14,
     "metadata": {},
     "output_type": "execute_result"
    }
   ],
   "source": [
    "myList = ['Jerry', 'Musa', 'James']\n",
    "myList[0]"
   ]
  },
  {
   "cell_type": "code",
   "execution_count": 15,
   "id": "5cb0723f",
   "metadata": {},
   "outputs": [
    {
     "name": "stdout",
     "output_type": "stream",
     "text": [
      "Jerry James\n"
     ]
    }
   ],
   "source": [
    "print (myList[0], myList[2])"
   ]
  },
  {
   "cell_type": "code",
   "execution_count": 16,
   "id": "103ab7bf",
   "metadata": {},
   "outputs": [
    {
     "data": {
      "text/plain": [
       "'James'"
      ]
     },
     "execution_count": 16,
     "metadata": {},
     "output_type": "execute_result"
    }
   ],
   "source": [
    "myList[-1]"
   ]
  },
  {
   "cell_type": "code",
   "execution_count": 18,
   "id": "b79563f9",
   "metadata": {},
   "outputs": [
    {
     "data": {
      "text/plain": [
       "['Jerry', 'Musa']"
      ]
     },
     "execution_count": 18,
     "metadata": {},
     "output_type": "execute_result"
    }
   ],
   "source": [
    "myList[0:2]"
   ]
  },
  {
   "cell_type": "code",
   "execution_count": 20,
   "id": "83d42798",
   "metadata": {},
   "outputs": [],
   "source": [
    "#Scenario 5\n",
    "ageJames = 35\n",
    "ageMary = 30\n",
    "kid1 = 3\n",
    "kid2 = 6\n",
    "kid3 = 6\n",
    "kid4 = 11\n",
    "adultAge = 18\n",
    "ageList = [ageJames, ageMary, kid1, kid2, kid3, kid4]"
   ]
  },
  {
   "cell_type": "code",
   "execution_count": 21,
   "id": "3206cd08",
   "metadata": {},
   "outputs": [
    {
     "name": "stdout",
     "output_type": "stream",
     "text": [
      "35\n",
      "30\n",
      "3\n",
      "6\n",
      "6\n",
      "11\n"
     ]
    }
   ],
   "source": [
    "for age in ageList:\n",
    "    print (age)"
   ]
  },
  {
   "cell_type": "code",
   "execution_count": 25,
   "id": "90060b0d",
   "metadata": {},
   "outputs": [
    {
     "name": "stdout",
     "output_type": "stream",
     "text": [
      "entering the list to get the member of age \n",
      "35\n",
      "with index number\n",
      "0\n",
      "done with this member age, going for another\n",
      "entering the list to get the member of age \n",
      "30\n",
      "with index number\n",
      "1\n",
      "done with this member age, going for another\n",
      "entering the list to get the member of age \n",
      "3\n",
      "with index number\n",
      "2\n",
      "done with this member age, going for another\n",
      "entering the list to get the member of age \n",
      "6\n",
      "with index number\n",
      "3\n",
      "done with this member age, going for another\n",
      "entering the list to get the member of age \n",
      "6\n",
      "with index number\n",
      "3\n",
      "done with this member age, going for another\n",
      "entering the list to get the member of age \n",
      "11\n",
      "with index number\n",
      "5\n",
      "done with this member age, going for another\n"
     ]
    }
   ],
   "source": [
    "for age in ageList:\n",
    "    print ('entering the list to get the member of age ')\n",
    "    print (age)\n",
    "    print ('with index number')\n",
    "    print (ageList.index(age))\n",
    "    \n",
    "    print ('done with this member age, going for another')"
   ]
  },
  {
   "cell_type": "code",
   "execution_count": 27,
   "id": "fb481d6f",
   "metadata": {},
   "outputs": [
    {
     "name": "stdout",
     "output_type": "stream",
     "text": [
      "member at index position:  0 is an adult\n",
      "member at index position:  1 is an adult\n",
      "member at index posotion:  2 is  not an adult\n",
      "member at index posotion:  3 is  not an adult\n",
      "member at index posotion:  3 is  not an adult\n",
      "member at index posotion:  5 is  not an adult\n"
     ]
    }
   ],
   "source": [
    "for memberAge in ageList:\n",
    "    if memberAge > adultAge:\n",
    "        print ('member at index position: ', ageList.index(memberAge), 'is an adult')\n",
    "    else:\n",
    "        print ('member at index posotion: ', ageList.index(memberAge), 'is  not an adult')"
   ]
  },
  {
   "cell_type": "code",
   "execution_count": 2,
   "id": "1b444b51",
   "metadata": {},
   "outputs": [
    {
     "data": {
      "text/plain": [
       "int"
      ]
     },
     "execution_count": 2,
     "metadata": {},
     "output_type": "execute_result"
    }
   ],
   "source": [
    "y = 7\n",
    "\n",
    "type(y)"
   ]
  },
  {
   "cell_type": "code",
   "execution_count": 3,
   "id": "a9c77f51",
   "metadata": {},
   "outputs": [
    {
     "data": {
      "text/plain": [
       "float"
      ]
     },
     "execution_count": 3,
     "metadata": {},
     "output_type": "execute_result"
    }
   ],
   "source": [
    "y = 7.5\n",
    "type(y)"
   ]
  },
  {
   "cell_type": "code",
   "execution_count": 4,
   "id": "dd8edece",
   "metadata": {},
   "outputs": [
    {
     "data": {
      "text/plain": [
       "str"
      ]
     },
     "execution_count": 4,
     "metadata": {},
     "output_type": "execute_result"
    }
   ],
   "source": [
    "y = 'hiwnwn1'\n",
    "type(y)"
   ]
  },
  {
   "cell_type": "code",
   "execution_count": null,
   "id": "d31fed75",
   "metadata": {},
   "outputs": [],
   "source": [
    "naming covention = camel case and snake case "
   ]
  },
  {
   "cell_type": "code",
   "execution_count": null,
   "id": "fa365537",
   "metadata": {},
   "outputs": [],
   "source": [
    "Scenario 1\n",
    "A police man tickets a driver for going 10kph above the speed limit.\n",
    "If the speed limit was 35kph and the driver recieved 2 tickets, reduce this to variables "
   ]
  },
  {
   "cell_type": "code",
   "execution_count": null,
   "id": "4001604a",
   "metadata": {},
   "outputs": [],
   "source": [
    "speedLimit = 35 #in KM\n",
    "speedAbovr = 10 #in kilometer\n",
    "numTickets = 2\n"
   ]
  },
  {
   "cell_type": "code",
   "execution_count": null,
   "id": "1809f64e",
   "metadata": {},
   "outputs": [],
   "source": [
    "Scenario 2\n",
    "A driver name Barakat was driving on the free way when she noticed three deers are crossing the road.\n",
    "She hit two of them and one died at the spot. A police name James wa near her and ticket her for dangerous driving\n",
    "Reduce to code "
   ]
  },
  {
   "cell_type": "code",
   "execution_count": null,
   "id": "f6f91616",
   "metadata": {},
   "outputs": [],
   "source": [
    "dName = 'Barakat'\n",
    "numBeers = 3\n",
    "numHit = 2\n",
    "numDied = 1\n",
    "pName = 'James'\n",
    "numTicket = 1\n",
    "ticketType = 'Dangerous Driving'\n",
    "roadType = 'Free way'"
   ]
  },
  {
   "cell_type": "code",
   "execution_count": null,
   "id": "d216285f",
   "metadata": {},
   "outputs": [],
   "source": [
    "# operators\n",
    "+ addition\n",
    "- subtraction\n",
    "* multiplication\n",
    "/ divition \n",
    "== equvalent\n",
    "// modulus\n",
    "% remainder \n",
    "+= complex addition \n",
    "-+ complex subtraction \n"
   ]
  },
  {
   "cell_type": "code",
   "execution_count": null,
   "id": "f1fe63ef",
   "metadata": {},
   "outputs": [],
   "source": [
    "Scenario 3\n",
    "Nchedu works in an IT firm and she earns $5000 a month. \n",
    "her rent is $700, food is $500, she owes Lilian $2000, and her utility bills for each month is $300.\n",
    "If Lilia instist on getting 60% of what is owed her, how much will Nchedu have at the end of the month "
   ]
  },
  {
   "cell_type": "code",
   "execution_count": 6,
   "id": "93c06d71",
   "metadata": {},
   "outputs": [
    {
     "name": "stdout",
     "output_type": "stream",
     "text": [
      "2300.0\n"
     ]
    }
   ],
   "source": [
    "mSalary = 5000\n",
    "uBills = 300\n",
    "rent = 700\n",
    "food = 500\n",
    "debt = 2000\n",
    "percDebtPayOff = 0.6\n",
    "\n",
    "monthlyBill = (uBills + food + rent)\n",
    "debtPaid = (percDebtPayOff * debt)\n",
    "\n",
    "savings = (mSalary - (monthlyBill + debtPaid))\n",
    "print(savings)"
   ]
  },
  {
   "cell_type": "code",
   "execution_count": null,
   "id": "a522ff74",
   "metadata": {},
   "outputs": [],
   "source": [
    "Scenario 4\n",
    "Agatha has five hundred Oranges and will like to distribute them to her friends \n",
    "If Agatha has 7 friends, how many oranges will remain after she shares them ?"
   ]
  },
  {
   "cell_type": "code",
   "execution_count": 7,
   "id": "7b0b60f3",
   "metadata": {},
   "outputs": [
    {
     "data": {
      "text/plain": [
       "3"
      ]
     },
     "execution_count": 7,
     "metadata": {},
     "output_type": "execute_result"
    }
   ],
   "source": [
    "500%7"
   ]
  },
  {
   "cell_type": "code",
   "execution_count": 8,
   "id": "2a7934f9",
   "metadata": {},
   "outputs": [
    {
     "data": {
      "text/plain": [
       "71"
      ]
     },
     "execution_count": 8,
     "metadata": {},
     "output_type": "execute_result"
    }
   ],
   "source": [
    "500//7"
   ]
  },
  {
   "cell_type": "code",
   "execution_count": 9,
   "id": "9264d679",
   "metadata": {},
   "outputs": [
    {
     "data": {
      "text/plain": [
       "'Jerry'"
      ]
     },
     "execution_count": 9,
     "metadata": {},
     "output_type": "execute_result"
    }
   ],
   "source": [
    "myList = ['Jerry', 'Abu', 'Iyanu']\n",
    "\n",
    "myList[0]"
   ]
  },
  {
   "cell_type": "code",
   "execution_count": 10,
   "id": "3dd46b63",
   "metadata": {},
   "outputs": [
    {
     "data": {
      "text/plain": [
       "('Abu', 'Iyanu')"
      ]
     },
     "execution_count": 10,
     "metadata": {},
     "output_type": "execute_result"
    }
   ],
   "source": [
    "(myList[1], myList[2])"
   ]
  },
  {
   "cell_type": "code",
   "execution_count": 11,
   "id": "32c212ab",
   "metadata": {},
   "outputs": [
    {
     "data": {
      "text/plain": [
       "8"
      ]
     },
     "execution_count": 11,
     "metadata": {},
     "output_type": "execute_result"
    }
   ],
   "source": [
    "myList = [2,3,4,7,8]\n",
    "myList[-1]"
   ]
  },
  {
   "cell_type": "code",
   "execution_count": 13,
   "id": "c944f81c",
   "metadata": {},
   "outputs": [
    {
     "data": {
      "text/plain": [
       "[3, 4, 7]"
      ]
     },
     "execution_count": 13,
     "metadata": {},
     "output_type": "execute_result"
    }
   ],
   "source": [
    "myList[1:4]"
   ]
  },
  {
   "cell_type": "code",
   "execution_count": null,
   "id": "6641ceb0",
   "metadata": {},
   "outputs": [],
   "source": [
    "Scenario 5\n",
    "James is aged 35 and his spouse Mary is 30 years old. they have 4 kids aged 3,6,6,11\n",
    "Task: check to see if any memeber of James family is an adult (adult starts at 18)\n",
    "    "
   ]
  },
  {
   "cell_type": "code",
   "execution_count": 18,
   "id": "8b495094",
   "metadata": {},
   "outputs": [
    {
     "name": "stdout",
     "output_type": "stream",
     "text": [
      "25\n",
      "30\n",
      "3\n",
      "6\n",
      "6\n",
      "11\n"
     ]
    }
   ],
   "source": [
    "ageJames = 25\n",
    "ageMary = 30\n",
    "kid1 = 3\n",
    "kid2 = 6\n",
    "kid3 = 6\n",
    "kid4 = 11\n",
    "\n",
    "adultAge = 18\n",
    "\n",
    "ageList = [ageJames, ageMary, kid1, kid2, kid3, kid4]\n",
    "\n",
    "for age in ageList:\n",
    "    print(age)"
   ]
  },
  {
   "cell_type": "code",
   "execution_count": 19,
   "id": "858e7a62",
   "metadata": {},
   "outputs": [
    {
     "name": "stdout",
     "output_type": "stream",
     "text": [
      "entering to go grab one of the ages\n",
      "25\n",
      "with index number\n",
      "0\n",
      "done with the member age, going for the next\n",
      "entering to go grab one of the ages\n",
      "30\n",
      "with index number\n",
      "1\n",
      "done with the member age, going for the next\n",
      "entering to go grab one of the ages\n",
      "3\n",
      "with index number\n",
      "2\n",
      "done with the member age, going for the next\n",
      "entering to go grab one of the ages\n",
      "6\n",
      "with index number\n",
      "3\n",
      "done with the member age, going for the next\n",
      "entering to go grab one of the ages\n",
      "6\n",
      "with index number\n",
      "3\n",
      "done with the member age, going for the next\n",
      "entering to go grab one of the ages\n",
      "11\n",
      "with index number\n",
      "5\n",
      "done with the member age, going for the next\n"
     ]
    }
   ],
   "source": [
    "for age in ageList:\n",
    "    print('entering to go grab one of the ages')\n",
    "    print(age)\n",
    "    print('with index number')\n",
    "    print(ageList.index(age))\n",
    "    print('done with the member age, going for the next')"
   ]
  },
  {
   "cell_type": "code",
   "execution_count": 21,
   "id": "4d24ab8b",
   "metadata": {},
   "outputs": [
    {
     "name": "stdout",
     "output_type": "stream",
     "text": [
      "member at index position:  0 is an adult\n",
      "member at index position:  1 is an adult\n",
      "member at index posotion:  2 is  not an adult\n",
      "member at index posotion:  3 is  not an adult\n",
      "member at index posotion:  3 is  not an adult\n",
      "member at index posotion:  5 is  not an adult\n"
     ]
    }
   ],
   "source": [
    "for memberAge in ageList:\n",
    "    if memberAge > adultAge:\n",
    "        print ('member at index position: ', ageList.index(memberAge), 'is an adult')\n",
    "    else:\n",
    "        print ('member at index posotion: ', ageList.index(memberAge), 'is  not an adult')"
   ]
  },
  {
   "cell_type": "markdown",
   "id": "df07ffb3",
   "metadata": {},
   "source": [
    "# Strings"
   ]
  },
  {
   "cell_type": "code",
   "execution_count": null,
   "id": "6cadbfb0",
   "metadata": {},
   "outputs": [],
   "source": [
    "Strings are categorical characters "
   ]
  },
  {
   "cell_type": "code",
   "execution_count": null,
   "id": "d5c5f6ee",
   "metadata": {},
   "outputs": [],
   "source": [
    "Scenario:\n",
    "    James has 4 friends named  Agatha, Terry, Badu and Efe. \n",
    "    Their ages are 23,32,31 and 20. James wants to store information about each \n",
    "    of them  to reflect who owes and who owe him. \n",
    "    Efe and Badu are his debtors while Agatha is his creditor"
   ]
  },
  {
   "cell_type": "code",
   "execution_count": 23,
   "id": "ff0839de",
   "metadata": {},
   "outputs": [
    {
     "data": {
      "text/html": [
       "<div>\n",
       "<style scoped>\n",
       "    .dataframe tbody tr th:only-of-type {\n",
       "        vertical-align: middle;\n",
       "    }\n",
       "\n",
       "    .dataframe tbody tr th {\n",
       "        vertical-align: top;\n",
       "    }\n",
       "\n",
       "    .dataframe thead th {\n",
       "        text-align: right;\n",
       "    }\n",
       "</style>\n",
       "<table border=\"1\" class=\"dataframe\">\n",
       "  <thead>\n",
       "    <tr style=\"text-align: right;\">\n",
       "      <th></th>\n",
       "      <th>Friend Name</th>\n",
       "      <th>Age</th>\n",
       "      <th>Status</th>\n",
       "    </tr>\n",
       "  </thead>\n",
       "  <tbody>\n",
       "    <tr>\n",
       "      <th>0</th>\n",
       "      <td>Agatha</td>\n",
       "      <td>23</td>\n",
       "      <td>creditor</td>\n",
       "    </tr>\n",
       "    <tr>\n",
       "      <th>1</th>\n",
       "      <td>Terry</td>\n",
       "      <td>32</td>\n",
       "      <td></td>\n",
       "    </tr>\n",
       "    <tr>\n",
       "      <th>2</th>\n",
       "      <td>Badu</td>\n",
       "      <td>31</td>\n",
       "      <td>debtor</td>\n",
       "    </tr>\n",
       "    <tr>\n",
       "      <th>3</th>\n",
       "      <td>Efe</td>\n",
       "      <td>20</td>\n",
       "      <td>debtor</td>\n",
       "    </tr>\n",
       "  </tbody>\n",
       "</table>\n",
       "</div>"
      ],
      "text/plain": [
       "  Friend Name  Age    Status\n",
       "0      Agatha   23  creditor\n",
       "1       Terry   32          \n",
       "2        Badu   31    debtor\n",
       "3         Efe   20    debtor"
      ]
     },
     "execution_count": 23,
     "metadata": {},
     "output_type": "execute_result"
    }
   ],
   "source": [
    "friend1 = 'Agatha'\n",
    "friend2 = 'Terry'\n",
    "friend3 = 'Badu'\n",
    "friend4 = 'Efe'\n",
    "\n",
    "friend1Age = 23\n",
    "friend2Age = 32\n",
    "friend3Age = 31\n",
    "friend4Age = 20 \n",
    "\n",
    "friend1Status = 'creditor'\n",
    "friend2Status = ''\n",
    "friend3Status = 'debtor'\n",
    "friend4Status = 'debtor'\n",
    "\n",
    "friendList = [friend1, friend2, friend3, friend4]\n",
    "ageList = [23, 32, 31, 20]\n",
    "status = ['creditor', '', 'debtor', 'debtor']\n",
    "\n",
    "import pandas as pd \n",
    "df = pd.DataFrame()\n",
    "df ['Friend Name'] = friendList\n",
    "df ['Age'] = ageList\n",
    "df ['Status'] = status\n",
    "\n",
    "df"
   ]
  },
  {
   "cell_type": "code",
   "execution_count": 28,
   "id": "1ba67329",
   "metadata": {},
   "outputs": [
    {
     "name": "stdout",
     "output_type": "stream",
     "text": [
      "scum is a vulgar word found in index position 0\n",
      "Damn is a vulgar word found in index position 1\n",
      "niggar is a vulgar word found in index position 2\n"
     ]
    }
   ],
   "source": [
    "text1 = 'simply dummy text of the scum printing and typesetting Damn. Lorem Ipsum has niggar the industry'\n",
    "\n",
    "vulgarWords = ['scum', 'Damn', 'niggar']\n",
    "\n",
    "for word in vulgarWords:\n",
    "    if word in text1:\n",
    "        idx = vulgarWords.index(word)\n",
    "        print('{} is a vulgar word found in index position {}'.format(word,idx))"
   ]
  },
  {
   "cell_type": "code",
   "execution_count": null,
   "id": "d8fe3090",
   "metadata": {},
   "outputs": [],
   "source": []
  },
  {
   "cell_type": "code",
   "execution_count": null,
   "id": "d1ca1a2e",
   "metadata": {},
   "outputs": [],
   "source": []
  },
  {
   "cell_type": "code",
   "execution_count": null,
   "id": "453357c7",
   "metadata": {},
   "outputs": [],
   "source": []
  },
  {
   "cell_type": "code",
   "execution_count": null,
   "id": "0487d4f3",
   "metadata": {},
   "outputs": [],
   "source": []
  },
  {
   "cell_type": "code",
   "execution_count": null,
   "id": "97c79dc9",
   "metadata": {},
   "outputs": [],
   "source": []
  },
  {
   "cell_type": "code",
   "execution_count": null,
   "id": "e94e1b03",
   "metadata": {},
   "outputs": [],
   "source": []
  },
  {
   "cell_type": "code",
   "execution_count": null,
   "id": "c2ee1485",
   "metadata": {},
   "outputs": [],
   "source": []
  },
  {
   "cell_type": "code",
   "execution_count": null,
   "id": "f972d5ed",
   "metadata": {},
   "outputs": [],
   "source": []
  },
  {
   "cell_type": "code",
   "execution_count": null,
   "id": "6f74e19c",
   "metadata": {},
   "outputs": [],
   "source": []
  },
  {
   "cell_type": "code",
   "execution_count": null,
   "id": "c2908850",
   "metadata": {},
   "outputs": [],
   "source": []
  },
  {
   "cell_type": "code",
   "execution_count": null,
   "id": "4581b7dd",
   "metadata": {},
   "outputs": [],
   "source": []
  }
 ],
 "metadata": {
  "kernelspec": {
   "display_name": "Python 3 (ipykernel)",
   "language": "python",
   "name": "python3"
  },
  "language_info": {
   "codemirror_mode": {
    "name": "ipython",
    "version": 3
   },
   "file_extension": ".py",
   "mimetype": "text/x-python",
   "name": "python",
   "nbconvert_exporter": "python",
   "pygments_lexer": "ipython3",
   "version": "3.9.12"
  }
 },
 "nbformat": 4,
 "nbformat_minor": 5
}
