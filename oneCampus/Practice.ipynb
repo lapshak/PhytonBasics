{
 "cells": [
  {
   "cell_type": "code",
   "execution_count": 1,
   "id": "c11e0d26",
   "metadata": {},
   "outputs": [
    {
     "data": {
      "text/plain": [
       "int"
      ]
     },
     "execution_count": 1,
     "metadata": {},
     "output_type": "execute_result"
    }
   ],
   "source": [
    "y = 7\n",
    "\n",
    "type(y)"
   ]
  },
  {
   "cell_type": "code",
   "execution_count": 2,
   "id": "197662fd",
   "metadata": {},
   "outputs": [
    {
     "data": {
      "text/plain": [
       "float"
      ]
     },
     "execution_count": 2,
     "metadata": {},
     "output_type": "execute_result"
    }
   ],
   "source": [
    "y = 5.443\n",
    "type(y)"
   ]
  },
  {
   "cell_type": "code",
   "execution_count": 3,
   "id": "c1f7415a",
   "metadata": {},
   "outputs": [
    {
     "data": {
      "text/plain": [
       "str"
      ]
     },
     "execution_count": 3,
     "metadata": {},
     "output_type": "execute_result"
    }
   ],
   "source": [
    "y ='the main issue'\n",
    "\n",
    "type(y)"
   ]
  },
  {
   "cell_type": "code",
   "execution_count": null,
   "id": "d5f47242",
   "metadata": {},
   "outputs": [],
   "source": [
    "scenario 1\n",
    "speedLimit = 35\n",
    "speedAboveLimit = 10\n",
    "numTicket = 2 "
   ]
  },
  {
   "cell_type": "code",
   "execution_count": null,
   "id": "ab351d73",
   "metadata": {},
   "outputs": [],
   "source": [
    "Scenario 2\n",
    "dName = 'Barakat'\n",
    "pName = 'James'\n",
    "numDeer = 3\n",
    "numHit = 2\n",
    "numDied = 1\n",
    "ticketType = 'dangerous driving'\n",
    "numTicket = 1\n",
    "roadType = 'feeway'"
   ]
  },
  {
   "cell_type": "code",
   "execution_count": null,
   "id": "a396390a",
   "metadata": {},
   "outputs": [],
   "source": [
    "# Operators\n",
    "+ addition\n",
    "- subtraction\n",
    "* multiplication\n",
    "== equivalent\n",
    "// modulus\n",
    "% remainder\n",
    "+= complex addition\n",
    "-= complex subtraction"
   ]
  },
  {
   "cell_type": "code",
   "execution_count": 4,
   "id": "a11c0a29",
   "metadata": {},
   "outputs": [],
   "source": [
    "debtorName = 'Nchedu'\n",
    "creditorName = 'Lilian'\n",
    "monthlySalary = 5000\n",
    "rent = 700\n",
    "food = 500\n",
    "uBills = 300\n",
    "debt = 2000\n",
    "percDedtPayOff = 0.6"
   ]
  },
  {
   "cell_type": "code",
   "execution_count": 6,
   "id": "fae681f5",
   "metadata": {},
   "outputs": [
    {
     "name": "stdout",
     "output_type": "stream",
     "text": [
      "1500\n",
      "1200.0\n"
     ]
    }
   ],
   "source": [
    "mExpenses = rent + food + uBills\n",
    "debtPaid = debt * percDedtPayOff \n",
    "print(mExpenses)\n",
    "print(debtPaid)"
   ]
  },
  {
   "cell_type": "code",
   "execution_count": 8,
   "id": "b44f0cc5",
   "metadata": {},
   "outputs": [
    {
     "name": "stdout",
     "output_type": "stream",
     "text": [
      "2300.0\n"
     ]
    }
   ],
   "source": [
    "savings = (monthlySalary - (mExpenses + debtPaid ))\n",
    "print(savings)"
   ]
  },
  {
   "cell_type": "code",
   "execution_count": 13,
   "id": "fc43fdc6",
   "metadata": {},
   "outputs": [
    {
     "name": "stdout",
     "output_type": "stream",
     "text": [
      "71\n",
      "3\n"
     ]
    }
   ],
   "source": [
    "#Scenario 4\n",
    "\n",
    "numOranges = 500\n",
    "numFriends = 7\n",
    "\n",
    "val1 = numOranges // numFriends\n",
    "val2 = numOranges % numFriends\n",
    "\n",
    "print(val1)\n",
    "print(val2)"
   ]
  },
  {
   "cell_type": "code",
   "execution_count": 14,
   "id": "0526d730",
   "metadata": {},
   "outputs": [
    {
     "data": {
      "text/plain": [
       "'Jerry'"
      ]
     },
     "execution_count": 14,
     "metadata": {},
     "output_type": "execute_result"
    }
   ],
   "source": [
    "myList = ['Jerry', 'Musa', 'James']\n",
    "myList[0]"
   ]
  },
  {
   "cell_type": "code",
   "execution_count": 15,
   "id": "5cb0723f",
   "metadata": {},
   "outputs": [
    {
     "name": "stdout",
     "output_type": "stream",
     "text": [
      "Jerry James\n"
     ]
    }
   ],
   "source": [
    "print (myList[0], myList[2])"
   ]
  },
  {
   "cell_type": "code",
   "execution_count": 16,
   "id": "103ab7bf",
   "metadata": {},
   "outputs": [
    {
     "data": {
      "text/plain": [
       "'James'"
      ]
     },
     "execution_count": 16,
     "metadata": {},
     "output_type": "execute_result"
    }
   ],
   "source": [
    "myList[-1]"
   ]
  },
  {
   "cell_type": "code",
   "execution_count": 18,
   "id": "b79563f9",
   "metadata": {},
   "outputs": [
    {
     "data": {
      "text/plain": [
       "['Jerry', 'Musa']"
      ]
     },
     "execution_count": 18,
     "metadata": {},
     "output_type": "execute_result"
    }
   ],
   "source": [
    "myList[0:2]"
   ]
  },
  {
   "cell_type": "code",
   "execution_count": 20,
   "id": "83d42798",
   "metadata": {},
   "outputs": [],
   "source": [
    "#Scenario 5\n",
    "ageJames = 35\n",
    "ageMary = 30\n",
    "kid1 = 3\n",
    "kid2 = 6\n",
    "kid3 = 6\n",
    "kid4 = 11\n",
    "adultAge = 18\n",
    "ageList = [ageJames, ageMary, kid1, kid2, kid3, kid4]"
   ]
  },
  {
   "cell_type": "code",
   "execution_count": 21,
   "id": "3206cd08",
   "metadata": {},
   "outputs": [
    {
     "name": "stdout",
     "output_type": "stream",
     "text": [
      "35\n",
      "30\n",
      "3\n",
      "6\n",
      "6\n",
      "11\n"
     ]
    }
   ],
   "source": [
    "for age in ageList:\n",
    "    print (age)"
   ]
  },
  {
   "cell_type": "code",
   "execution_count": 25,
   "id": "90060b0d",
   "metadata": {},
   "outputs": [
    {
     "name": "stdout",
     "output_type": "stream",
     "text": [
      "entering the list to get the member of age \n",
      "35\n",
      "with index number\n",
      "0\n",
      "done with this member age, going for another\n",
      "entering the list to get the member of age \n",
      "30\n",
      "with index number\n",
      "1\n",
      "done with this member age, going for another\n",
      "entering the list to get the member of age \n",
      "3\n",
      "with index number\n",
      "2\n",
      "done with this member age, going for another\n",
      "entering the list to get the member of age \n",
      "6\n",
      "with index number\n",
      "3\n",
      "done with this member age, going for another\n",
      "entering the list to get the member of age \n",
      "6\n",
      "with index number\n",
      "3\n",
      "done with this member age, going for another\n",
      "entering the list to get the member of age \n",
      "11\n",
      "with index number\n",
      "5\n",
      "done with this member age, going for another\n"
     ]
    }
   ],
   "source": [
    "for age in ageList:\n",
    "    print ('entering the list to get the member of age ')\n",
    "    print (age)\n",
    "    print ('with index number')\n",
    "    print (ageList.index(age))\n",
    "    \n",
    "    print ('done with this member age, going for another')"
   ]
  },
  {
   "cell_type": "code",
   "execution_count": 27,
   "id": "fb481d6f",
   "metadata": {},
   "outputs": [
    {
     "name": "stdout",
     "output_type": "stream",
     "text": [
      "member at index position:  0 is an adult\n",
      "member at index position:  1 is an adult\n",
      "member at index posotion:  2 is  not an adult\n",
      "member at index posotion:  3 is  not an adult\n",
      "member at index posotion:  3 is  not an adult\n",
      "member at index posotion:  5 is  not an adult\n"
     ]
    }
   ],
   "source": [
    "for memberAge in ageList:\n",
    "    if memberAge > adultAge:\n",
    "        print ('member at index position: ', ageList.index(memberAge), 'is an adult')\n",
    "    else:\n",
    "        print ('member at index posotion: ', ageList.index(memberAge), 'is  not an adult')"
   ]
  },
  {
   "cell_type": "code",
   "execution_count": null,
   "id": "1b444b51",
   "metadata": {},
   "outputs": [],
   "source": []
  },
  {
   "cell_type": "code",
   "execution_count": null,
   "id": "f1fe63ef",
   "metadata": {},
   "outputs": [],
   "source": []
  },
  {
   "cell_type": "code",
   "execution_count": null,
   "id": "93c06d71",
   "metadata": {},
   "outputs": [],
   "source": []
  },
  {
   "cell_type": "code",
   "execution_count": null,
   "id": "a522ff74",
   "metadata": {},
   "outputs": [],
   "source": []
  },
  {
   "cell_type": "code",
   "execution_count": null,
   "id": "7b0b60f3",
   "metadata": {},
   "outputs": [],
   "source": []
  },
  {
   "cell_type": "code",
   "execution_count": null,
   "id": "2a7934f9",
   "metadata": {},
   "outputs": [],
   "source": []
  },
  {
   "cell_type": "code",
   "execution_count": null,
   "id": "9264d679",
   "metadata": {},
   "outputs": [],
   "source": []
  }
 ],
 "metadata": {
  "kernelspec": {
   "display_name": "Python 3 (ipykernel)",
   "language": "python",
   "name": "python3"
  },
  "language_info": {
   "codemirror_mode": {
    "name": "ipython",
    "version": 3
   },
   "file_extension": ".py",
   "mimetype": "text/x-python",
   "name": "python",
   "nbconvert_exporter": "python",
   "pygments_lexer": "ipython3",
   "version": "3.9.12"
  }
 },
 "nbformat": 4,
 "nbformat_minor": 5
}
