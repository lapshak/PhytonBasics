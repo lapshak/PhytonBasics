{
 "cells": [
  {
   "cell_type": "markdown",
   "id": "ed37e37d",
   "metadata": {},
   "source": [
    "# Variable"
   ]
  },
  {
   "cell_type": "code",
   "execution_count": null,
   "id": "e3fcd53a",
   "metadata": {},
   "outputs": [],
   "source": [
    "int is any whole number 1,2 12132\n",
    "\n",
    "float is any number with a decimal place 2.0, 3.4, 7.881\n",
    "\n",
    "string is a name of any object or disciptor, text = \"Obi\""
   ]
  },
  {
   "cell_type": "code",
   "execution_count": 1,
   "id": "1fe54150",
   "metadata": {},
   "outputs": [
    {
     "data": {
      "text/plain": [
       "int"
      ]
     },
     "execution_count": 1,
     "metadata": {},
     "output_type": "execute_result"
    }
   ],
   "source": [
    "y = 7\n",
    "\n",
    "type(y)"
   ]
  },
  {
   "cell_type": "code",
   "execution_count": 2,
   "id": "e80c2025",
   "metadata": {},
   "outputs": [
    {
     "data": {
      "text/plain": [
       "float"
      ]
     },
     "execution_count": 2,
     "metadata": {},
     "output_type": "execute_result"
    }
   ],
   "source": [
    "y = 7.05\n",
    "\n",
    "type(y)"
   ]
  },
  {
   "cell_type": "code",
   "execution_count": 3,
   "id": "b6601bd9",
   "metadata": {},
   "outputs": [
    {
     "data": {
      "text/plain": [
       "str"
      ]
     },
     "execution_count": 3,
     "metadata": {},
     "output_type": "execute_result"
    }
   ],
   "source": [
    "y = \"1222f\"\n",
    "\n",
    "type(y)"
   ]
  },
  {
   "cell_type": "code",
   "execution_count": null,
   "id": "5506452d",
   "metadata": {},
   "outputs": [],
   "source": [
    "Rules for Variabe names \n",
    "\n",
    "1. dont start a variable name with a number \n",
    "2. dont use any of the reserve words in python e.g class , False\n",
    "3. Always use meaning names for your variables e.g x = Agatha is wrong but studentName = Agatha\n",
    "4. Stick to a naming convention for your variables e.g camel case, snake case\n",
    "    Camel case = name = 'Jane', studentName = 'Agatha', numOfApples = 7\n",
    "    snake case = name = 'Jane', student_name = 'Agatha', num_of_apples = 7"
   ]
  },
  {
   "cell_type": "code",
   "execution_count": null,
   "id": "5a25253b",
   "metadata": {},
   "outputs": [],
   "source": [
    "Scenario 1\n",
    "A police man tickets a driver for going 10kph above the speed limit.\n",
    "If the speed limit was 35kph and the driver recieved 2 tickets, reduce this to variables \n"
   ]
  },
  {
   "cell_type": "code",
   "execution_count": null,
   "id": "83fb1d81",
   "metadata": {},
   "outputs": [],
   "source": [
    "speedLimit = 35 # in kph\n",
    "speedAboveLimit = 10 # in kph\n",
    "numTickets = 2"
   ]
  },
  {
   "cell_type": "code",
   "execution_count": null,
   "id": "cc8871ea",
   "metadata": {},
   "outputs": [],
   "source": [
    "Scenario 2\n",
    "A driver name Barakat was driving on the free way when she noticed three deers are crossing the road.\n",
    "She hit two of them and one died at the spot. A police name James wa near her and ticket her for dangerous driving\n",
    "Reduce to code "
   ]
  },
  {
   "cell_type": "code",
   "execution_count": null,
   "id": "ee8bb7de",
   "metadata": {},
   "outputs": [],
   "source": [
    "dName = 'Barakat'\n",
    "pName = 'James'\n",
    "numDeers = 3\n",
    "numHit = 2\n",
    "numDied = 1\n",
    "ticketType 'dangerous driving'\n",
    "numTickets = 1\n",
    "roadType = 'freeway'\n"
   ]
  },
  {
   "cell_type": "code",
   "execution_count": null,
   "id": "78bca0f6",
   "metadata": {},
   "outputs": [],
   "source": [
    "# Python Expressions"
   ]
  },
  {
   "cell_type": "code",
   "execution_count": null,
   "id": "ab054a6f",
   "metadata": {},
   "outputs": [],
   "source": [
    " # Operators \n",
    "+ # addition\n",
    "- # subtraction \n",
    "* # multiplication \n",
    "/ # Division\n",
    "== # equvalent \n",
    "// # modulus\n",
    "% # remainder\n",
    "+= # complex addition\n",
    "-= # complex subtraction"
   ]
  },
  {
   "cell_type": "code",
   "execution_count": null,
   "id": "72cca21a",
   "metadata": {},
   "outputs": [],
   "source": [
    "Scenario 3\n",
    "chedu works in an IT firm and she earns $5000 a month. \n",
    "her rent is $700, food is $500, she owes Lilian $2000, and her utility bills for each month is $300.\n",
    "If Lilia instist on getting 60% of what is owed her, how much will Nchedu have at the end of the month \n"
   ]
  },
  {
   "cell_type": "code",
   "execution_count": 1,
   "id": "50e29b46",
   "metadata": {},
   "outputs": [],
   "source": [
    "debtorName = 'Nchedu'\n",
    "cerditorName = 'Lilian'\n",
    "monthlySal = 5000\n",
    "rent =  700\n",
    "food = 500\n",
    "uBills = 300\n",
    "debt = 2000\n",
    "percDeptPayOff = 0.6"
   ]
  },
  {
   "cell_type": "code",
   "execution_count": 2,
   "id": "3f7b849a",
   "metadata": {},
   "outputs": [
    {
     "name": "stdout",
     "output_type": "stream",
     "text": [
      "1500\n",
      "1200.0\n"
     ]
    }
   ],
   "source": [
    "mExpense = rent + food + uBills\n",
    "debtPaid = debt * percDeptPayOff\n",
    "print(mExpense)\n",
    "print(debtPaid)"
   ]
  },
  {
   "cell_type": "code",
   "execution_count": 3,
   "id": "808d0047",
   "metadata": {},
   "outputs": [
    {
     "name": "stdout",
     "output_type": "stream",
     "text": [
      "2300.0\n"
     ]
    }
   ],
   "source": [
    "savings = (monthlySal - (mExpense + debtPaid )) \n",
    "print(savings)"
   ]
  },
  {
   "cell_type": "code",
   "execution_count": null,
   "id": "6676ddf7",
   "metadata": {},
   "outputs": [],
   "source": [
    "Scenario 4\n",
    "Agatha has five Oranges and will like to distribute them to her friends \n",
    "If Agatha has 7 friends, how may oranges will remain after she shares them ?"
   ]
  },
  {
   "cell_type": "code",
   "execution_count": 1,
   "id": "476705dc",
   "metadata": {},
   "outputs": [
    {
     "name": "stdout",
     "output_type": "stream",
     "text": [
      "71\n",
      "3\n"
     ]
    }
   ],
   "source": [
    "numOranges = 500\n",
    "numFrinds = 7\n",
    "\n",
    "val1 = numOranges//numFrinds\n",
    "val2 = numOranges%numFrinds\n",
    "\n",
    "print(val1)\n",
    "print(val2)"
   ]
  },
  {
   "cell_type": "code",
   "execution_count": null,
   "id": "053757e9",
   "metadata": {},
   "outputs": [],
   "source": [
    "# a container is a type of variable that can hold multiple values or items each seperated by a comma,\n",
    "# we can access any  item inside a container using thier index position. index position starts from 0"
   ]
  },
  {
   "cell_type": "code",
   "execution_count": 1,
   "id": "3fe56b98",
   "metadata": {},
   "outputs": [
    {
     "data": {
      "text/plain": [
       "'Jerry'"
      ]
     },
     "execution_count": 1,
     "metadata": {},
     "output_type": "execute_result"
    }
   ],
   "source": [
    "myList = ['Jerry', 'James', 'Iyanu']\n",
    "myList[0]"
   ]
  },
  {
   "cell_type": "code",
   "execution_count": 2,
   "id": "40987bfb",
   "metadata": {},
   "outputs": [
    {
     "data": {
      "text/plain": [
       "('Jerry', 'Iyanu')"
      ]
     },
     "execution_count": 2,
     "metadata": {},
     "output_type": "execute_result"
    }
   ],
   "source": [
    "(myList[0], myList[2])"
   ]
  },
  {
   "cell_type": "code",
   "execution_count": 3,
   "id": "a3133f3b",
   "metadata": {},
   "outputs": [
    {
     "data": {
      "text/plain": [
       "77"
      ]
     },
     "execution_count": 3,
     "metadata": {},
     "output_type": "execute_result"
    }
   ],
   "source": [
    "myList = [22,33,34,44, 56, 77]\n",
    "myList[-1]"
   ]
  },
  {
   "cell_type": "code",
   "execution_count": 4,
   "id": "77575a01",
   "metadata": {},
   "outputs": [
    {
     "data": {
      "text/plain": [
       "[34, 44, 56]"
      ]
     },
     "execution_count": 4,
     "metadata": {},
     "output_type": "execute_result"
    }
   ],
   "source": [
    "myList[2:5]"
   ]
  },
  {
   "cell_type": "code",
   "execution_count": null,
   "id": "3ca23000",
   "metadata": {},
   "outputs": [],
   "source": [
    "Scenario 5\n",
    "James is aged 35 and his spouse Mary is 30 years old. they have 4 kids aged 3,6,6,11\n",
    "Task: check to see if any memeber of James family is an adult (adult starts at 18)\n",
    "    "
   ]
  },
  {
   "cell_type": "code",
   "execution_count": 5,
   "id": "7222e261",
   "metadata": {},
   "outputs": [],
   "source": [
    "ageJames = 35\n",
    "ageMary = 30\n",
    "kid1 = 3\n",
    "kid2 = 6\n",
    "kid3 = 6\n",
    "kid4 = 11\n",
    "adultAge = 18"
   ]
  },
  {
   "cell_type": "code",
   "execution_count": 6,
   "id": "3cbd8a99",
   "metadata": {},
   "outputs": [
    {
     "data": {
      "text/plain": [
       "False"
      ]
     },
     "execution_count": 6,
     "metadata": {},
     "output_type": "execute_result"
    }
   ],
   "source": [
    "ageJames == adultAge # we use the == sign to compare two values "
   ]
  },
  {
   "cell_type": "code",
   "execution_count": 7,
   "id": "250820fb",
   "metadata": {},
   "outputs": [
    {
     "name": "stdout",
     "output_type": "stream",
     "text": [
      "35\n",
      "30\n",
      "3\n",
      "6\n",
      "6\n",
      "11\n"
     ]
    }
   ],
   "source": [
    "ageList = [ageJames, ageMary, kid1, kid2, kid3, kid4,]\n",
    "print(ageList[0])\n",
    "print(ageList[1])\n",
    "print(ageList[2])\n",
    "print(ageList[3])\n",
    "print(ageList[4])\n",
    "print(ageList[5])"
   ]
  },
  {
   "cell_type": "code",
   "execution_count": 8,
   "id": "8f5bd4e8",
   "metadata": {},
   "outputs": [
    {
     "name": "stdout",
     "output_type": "stream",
     "text": [
      "35\n",
      "30\n",
      "3\n",
      "6\n",
      "6\n",
      "11\n"
     ]
    }
   ],
   "source": [
    "for age in ageList:\n",
    "    print(age)"
   ]
  },
  {
   "cell_type": "code",
   "execution_count": 9,
   "id": "cbf3ea59",
   "metadata": {},
   "outputs": [
    {
     "name": "stdout",
     "output_type": "stream",
     "text": [
      "entering the list to grab a members age\n",
      "35\n",
      "0\n",
      "done with this member age, going for another\n",
      "entering the list to grab a members age\n",
      "30\n",
      "1\n",
      "done with this member age, going for another\n",
      "entering the list to grab a members age\n",
      "3\n",
      "2\n",
      "done with this member age, going for another\n",
      "entering the list to grab a members age\n",
      "6\n",
      "3\n",
      "done with this member age, going for another\n",
      "entering the list to grab a members age\n",
      "6\n",
      "3\n",
      "done with this member age, going for another\n",
      "entering the list to grab a members age\n",
      "11\n",
      "5\n",
      "done with this member age, going for another\n"
     ]
    }
   ],
   "source": [
    "for age in ageList:\n",
    "    print('entering the list to grab a members age')\n",
    "    print(age) # rpinting items currently grabbed from a list\n",
    "    \n",
    "    print(ageList.index(age)) # asking python to tell me the index possition of the item it just grabbed from the list\n",
    "    \n",
    "    print('done with this member age, going for another')"
   ]
  },
  {
   "cell_type": "code",
   "execution_count": 10,
   "id": "20954d0e",
   "metadata": {},
   "outputs": [
    {
     "name": "stdout",
     "output_type": "stream",
     "text": [
      "member at index position:  0 is an adult\n",
      "member at index position:  1 is an adult\n",
      "member at index position:  2 is an adult\n",
      "member at index position:  3 is an adult\n",
      "member at index position:  3 is an adult\n",
      "member at index position:  5 is an adult\n"
     ]
    }
   ],
   "source": [
    "for memberAge in ageList:\n",
    "    if memberAge > adultAge:\n",
    "        print ('member at index position: ', ageList.index(memberAge), 'is an adult')\n",
    "    else:\n",
    "        print('member at index position: ', ageList.index(memberAge), 'is an adult')"
   ]
  },
  {
   "cell_type": "code",
   "execution_count": null,
   "id": "ccb78c65",
   "metadata": {},
   "outputs": [],
   "source": []
  }
 ],
 "metadata": {
  "kernelspec": {
   "display_name": "Python 3 (ipykernel)",
   "language": "python",
   "name": "python3"
  },
  "language_info": {
   "codemirror_mode": {
    "name": "ipython",
    "version": 3
   },
   "file_extension": ".py",
   "mimetype": "text/x-python",
   "name": "python",
   "nbconvert_exporter": "python",
   "pygments_lexer": "ipython3",
   "version": "3.9.12"
  }
 },
 "nbformat": 4,
 "nbformat_minor": 5
}
