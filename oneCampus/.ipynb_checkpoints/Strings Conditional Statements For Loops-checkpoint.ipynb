{
 "cells": [
  {
   "cell_type": "markdown",
   "id": "10790636",
   "metadata": {},
   "source": [
    "# Strings Conditional Statements For Loops"
   ]
  },
  {
   "cell_type": "markdown",
   "id": "aef4d7b6",
   "metadata": {},
   "source": [
    "# Strings"
   ]
  },
  {
   "cell_type": "code",
   "execution_count": null,
   "id": "1e99e02e",
   "metadata": {},
   "outputs": [],
   "source": [
    "#Strings are python objects. Non-numeric actually categorical  charaters"
   ]
  },
  {
   "cell_type": "code",
   "execution_count": 9,
   "id": "436497fb",
   "metadata": {},
   "outputs": [],
   "source": [
    "#Examples of Strings \n",
    "\n",
    "\n",
    "studName1 = 'Otiasah David'"
   ]
  },
  {
   "cell_type": "code",
   "execution_count": null,
   "id": "2e15da47",
   "metadata": {},
   "outputs": [],
   "source": [
    "Scenario:\n",
    "    James has 4 friends named  Agatha, Terry, Badu and Efe. \n",
    "    Their ages are 23,32,31 and 20. James wants to store information about each \n",
    "    of them  to reflect who whe owes and who owe him. \n",
    "    Efe and Badu are his debtors while Agatha is his creditor"
   ]
  },
  {
   "cell_type": "code",
   "execution_count": null,
   "id": "01743f80",
   "metadata": {},
   "outputs": [],
   "source": [
    "friend1 = 'Agatha'\n",
    "friend2 = 'Terry'\n",
    "friend3 = 'Badu'\n",
    "friend4 = 'Efe'\n",
    "\n",
    "friend1Age = 23\n",
    "friend2Age = 32\n",
    "friend3Age = 31\n",
    "friend4Age = 20 \n",
    "\n",
    "friend1Status = 'creditor'\n",
    "friend2Status = ''\n",
    "friend3Status = 'debtor'\n",
    "friend4Status = 'debtor'"
   ]
  },
  {
   "cell_type": "code",
   "execution_count": null,
   "id": "8e40e0c2",
   "metadata": {},
   "outputs": [],
   "source": [
    "friend1 = 'Agatha'\n",
    "friend2 = 'Terry'\n",
    "friend3 = 'Badu'\n",
    "friend4 = 'Efe'\n",
    "\n",
    "friend1Age = 23\n",
    "friend2Age = 32\n",
    "friend3Age = 31\n",
    "friend4Age = 20 \n",
    "\n",
    "friend1Status = 'creditor'\n",
    "friend2Status = ''\n",
    "friend3Status = 'debtor'\n",
    "friend4Status = 'debtor'\n",
    "\n",
    "\n",
    "friendsList = [friend1, friend2,friend3,friend4]\n",
    "ageList = [23,32,31,20]\n",
    "Status = ['creditor', '','debtor', 'debtor']\n",
    "\n",
    "import pandas as pd  \n",
    "\n",
    "df = pd.DataFrame()\n",
    "df['friend name'] = friendsList\n",
    "df['Age'] =ageList\n",
    "df['Status'] = Status\n",
    "\n",
    "df"
   ]
  },
  {
   "cell_type": "code",
   "execution_count": null,
   "id": "751d8db0",
   "metadata": {},
   "outputs": [],
   "source": [
    "## String Operations \n",
    "\n",
    "name = 'Kuburat Amodu-Ode'\n",
    "\n",
    "# python assigns index positions to each charater in the string starting from zero"
   ]
  },
  {
   "cell_type": "code",
   "execution_count": 7,
   "id": "b3ff40db",
   "metadata": {},
   "outputs": [],
   "source": [
    "myName = 'Sarah' # indexing goes from 0 to 4"
   ]
  },
  {
   "cell_type": "code",
   "execution_count": 8,
   "id": "d4566e39",
   "metadata": {},
   "outputs": [
    {
     "data": {
      "text/plain": [
       "'S'"
      ]
     },
     "execution_count": 8,
     "metadata": {},
     "output_type": "execute_result"
    }
   ],
   "source": [
    "# to get the character at the first index position\n",
    "\n",
    "myName[0]"
   ]
  },
  {
   "cell_type": "code",
   "execution_count": 9,
   "id": "ed90ce1b",
   "metadata": {},
   "outputs": [
    {
     "data": {
      "text/plain": [
       "'Sar'"
      ]
     },
     "execution_count": 9,
     "metadata": {},
     "output_type": "execute_result"
    }
   ],
   "source": [
    "# to get a substring from a string, use the index postion of the first and last character \n",
    "# AWLAYS move 1 index position after the last character to return\n",
    "myName[0:3]"
   ]
  },
  {
   "cell_type": "code",
   "execution_count": 10,
   "id": "fe8a3b1b",
   "metadata": {},
   "outputs": [
    {
     "data": {
      "text/plain": [
       "'ara'"
      ]
     },
     "execution_count": 10,
     "metadata": {},
     "output_type": "execute_result"
    }
   ],
   "source": [
    "#'ara' from Sarah\n",
    "\n",
    "myName[1:4]"
   ]
  },
  {
   "cell_type": "code",
   "execution_count": 11,
   "id": "8f29e98e",
   "metadata": {},
   "outputs": [
    {
     "data": {
      "text/plain": [
       "'ev'"
      ]
     },
     "execution_count": 11,
     "metadata": {},
     "output_type": "execute_result"
    }
   ],
   "source": [
    "name = 'Levi'\n",
    "type(name)\n",
    "name[1:3]"
   ]
  },
  {
   "cell_type": "code",
   "execution_count": 12,
   "id": "81541bb9",
   "metadata": {},
   "outputs": [
    {
     "data": {
      "text/plain": [
       "'i'"
      ]
     },
     "execution_count": 12,
     "metadata": {},
     "output_type": "execute_result"
    }
   ],
   "source": [
    "#  to get the last character in a string, use -1  \n",
    "\n",
    "name[-1]"
   ]
  },
  {
   "cell_type": "code",
   "execution_count": 13,
   "id": "ca020d73",
   "metadata": {},
   "outputs": [
    {
     "data": {
      "text/plain": [
       "'Amodu'"
      ]
     },
     "execution_count": 13,
     "metadata": {},
     "output_type": "execute_result"
    }
   ],
   "source": [
    "name = 'Kuburat Amodu-Ode'\n",
    "\n",
    "name[8:13]"
   ]
  },
  {
   "cell_type": "code",
   "execution_count": 14,
   "id": "204ed4d6",
   "metadata": {},
   "outputs": [
    {
     "data": {
      "text/plain": [
       "'Od'"
      ]
     },
     "execution_count": 14,
     "metadata": {},
     "output_type": "execute_result"
    }
   ],
   "source": [
    "name[-3:-1]"
   ]
  },
  {
   "cell_type": "code",
   "execution_count": 15,
   "id": "eb196f03",
   "metadata": {},
   "outputs": [
    {
     "data": {
      "text/plain": [
       "'Od'"
      ]
     },
     "execution_count": 15,
     "metadata": {},
     "output_type": "execute_result"
    }
   ],
   "source": [
    "name[14:-1]"
   ]
  },
  {
   "cell_type": "code",
   "execution_count": 16,
   "id": "b168def2",
   "metadata": {},
   "outputs": [
    {
     "data": {
      "text/plain": [
       "'Ode'"
      ]
     },
     "execution_count": 16,
     "metadata": {},
     "output_type": "execute_result"
    }
   ],
   "source": [
    "name[-3:]"
   ]
  },
  {
   "cell_type": "code",
   "execution_count": 17,
   "id": "53eb274a",
   "metadata": {},
   "outputs": [
    {
     "data": {
      "text/plain": [
       "'Ode'"
      ]
     },
     "execution_count": 17,
     "metadata": {},
     "output_type": "execute_result"
    }
   ],
   "source": [
    "name[14:50]"
   ]
  },
  {
   "cell_type": "code",
   "execution_count": 18,
   "id": "7c4a3281",
   "metadata": {},
   "outputs": [
    {
     "data": {
      "text/plain": [
       "61"
      ]
     },
     "execution_count": 18,
     "metadata": {},
     "output_type": "execute_result"
    }
   ],
   "source": [
    "text1 = 'simply dummy text of the scum printing and typesetting Damn. Lorem Ipsum has niggar the industry'\n",
    "\n",
    "\n",
    "text1.index('Lorem')"
   ]
  },
  {
   "cell_type": "code",
   "execution_count": 19,
   "id": "8b1b1228",
   "metadata": {},
   "outputs": [
    {
     "name": "stdout",
     "output_type": "stream",
     "text": [
      "scum is a vulgar word fround in index poistion 25\n",
      "Damn is a vulgar word fround in index poistion 55\n",
      "niggar is a vulgar word fround in index poistion 77\n"
     ]
    }
   ],
   "source": [
    "text1 = 'simply dummy text of the scum printing and typesetting Damn. Lorem Ipsum has niggar the industry'\n",
    "\n",
    "\n",
    "#Goal: find vulger words in a sentence or text\n",
    "vulgarWords = ['scum', 'Damn', 'niggar']\n",
    "\n",
    "for word in vulgarWords:\n",
    "    if word in text1:\n",
    "        idx = text1.index(word)\n",
    "        #print(f'{word} is a vulgar word fround in index poistion {idx}') # string formating\n",
    "        print('{} is a vulgar word fround in index poistion {}'.format(word,idx)) # string formating"
   ]
  },
  {
   "cell_type": "code",
   "execution_count": 20,
   "id": "b3e548e9",
   "metadata": {},
   "outputs": [
    {
     "name": "stdout",
     "output_type": "stream",
     "text": [
      "Anas Rabiu\n"
     ]
    }
   ],
   "source": [
    "fName = 'Anas'\n",
    "lName = 'Rabiu'\n",
    "\n",
    "#Task:  generate  'Anas Rabiu'\n",
    "\n",
    "fullname = fName + ' '+ lName\n",
    "\n",
    "print(fullname)"
   ]
  },
  {
   "cell_type": "code",
   "execution_count": 21,
   "id": "c4067ed1",
   "metadata": {},
   "outputs": [
    {
     "name": "stdout",
     "output_type": "stream",
     "text": [
      "125 james Avenue Lusaka Zambia\n"
     ]
    },
    {
     "data": {
      "text/plain": [
       "['125', 'james', 'Avenue', 'Lusaka', 'Zambia']"
      ]
     },
     "execution_count": 21,
     "metadata": {},
     "output_type": "execute_result"
    }
   ],
   "source": [
    "# String Splitting \n",
    "\n",
    "address = '125 james Avenue Lusaka Zambia'\n",
    "\n",
    "print(address)\n",
    "\n",
    "# Splitting the string \n",
    "\n",
    "address.split(' ')"
   ]
  },
  {
   "cell_type": "code",
   "execution_count": 22,
   "id": "41a8c135",
   "metadata": {},
   "outputs": [
    {
     "name": "stdout",
     "output_type": "stream",
     "text": [
      "Kuburat\n"
     ]
    }
   ],
   "source": [
    "Kname = 'Kuburat Amodu-Ode'\n",
    "\n",
    "print(Kname.split(' ')[0])"
   ]
  },
  {
   "cell_type": "code",
   "execution_count": 23,
   "id": "83440419",
   "metadata": {},
   "outputs": [
    {
     "name": "stdout",
     "output_type": "stream",
     "text": [
      "['Kuburat', 'Amodu-Ode']\n"
     ]
    }
   ],
   "source": [
    "Kname = 'Kuburat Amodu-Ode' # variable with full name  \n",
    "\n",
    "nameparts = Kname.split(' ') # splitting the string to get individual words in a list seperated by commas\n",
    "\n",
    "print(nameparts)\n"
   ]
  },
  {
   "cell_type": "code",
   "execution_count": 24,
   "id": "4e58170e",
   "metadata": {},
   "outputs": [
    {
     "data": {
      "text/plain": [
       "'Amodu-Ode'"
      ]
     },
     "execution_count": 24,
     "metadata": {},
     "output_type": "execute_result"
    }
   ],
   "source": [
    "nameparts[1]"
   ]
  },
  {
   "cell_type": "code",
   "execution_count": 25,
   "id": "0877a4e8",
   "metadata": {},
   "outputs": [],
   "source": [
    "studID = 'Jerry_Madu_0787655'\n",
    "#Task: obtain the students ID number 0787655 from the string using the splitting method"
   ]
  },
  {
   "cell_type": "code",
   "execution_count": 26,
   "id": "6a17c31c",
   "metadata": {},
   "outputs": [
    {
     "name": "stdout",
     "output_type": "stream",
     "text": [
      "0787655\n"
     ]
    }
   ],
   "source": [
    "print(studID.split('_')[2])"
   ]
  },
  {
   "cell_type": "code",
   "execution_count": 27,
   "id": "0821ddd3",
   "metadata": {},
   "outputs": [
    {
     "name": "stdout",
     "output_type": "stream",
     "text": [
      "['Amodu', 'Ode']\n"
     ]
    }
   ],
   "source": [
    "kName = 'Kuburat Amodu-Ode'\n",
    "\n",
    "print(kName.split(' ')[1].split('-'))"
   ]
  },
  {
   "cell_type": "markdown",
   "id": "1119c38b",
   "metadata": {},
   "source": [
    "# Conditional Statement"
   ]
  },
  {
   "cell_type": "code",
   "execution_count": null,
   "id": "4ea43ed8",
   "metadata": {},
   "outputs": [],
   "source": [
    "These are Booleans that evaluate to True or false \n",
    "We can start the evaluation using an IF statement"
   ]
  },
  {
   "cell_type": "code",
   "execution_count": 31,
   "id": "920b4010",
   "metadata": {},
   "outputs": [],
   "source": [
    "davidAge = 32\n",
    "philipAge = 35"
   ]
  },
  {
   "cell_type": "code",
   "execution_count": 32,
   "id": "0b5d25ed",
   "metadata": {},
   "outputs": [
    {
     "data": {
      "text/plain": [
       "False"
      ]
     },
     "execution_count": 32,
     "metadata": {},
     "output_type": "execute_result"
    }
   ],
   "source": [
    "# checking to see if both ages are the same  ( Always use the == operator)\n",
    "\n",
    "davidAge == philipAge"
   ]
  },
  {
   "cell_type": "code",
   "execution_count": null,
   "id": "ebee83ff",
   "metadata": {},
   "outputs": [],
   "source": [
    "if davidAge == philipAge: #This evaluates if the condition is True\n",
    "    code to execute if condition is true\n",
    "else:\n",
    "    code to execute if condition is false"
   ]
  },
  {
   "cell_type": "code",
   "execution_count": 34,
   "id": "c3a1d578",
   "metadata": {},
   "outputs": [
    {
     "name": "stdout",
     "output_type": "stream",
     "text": [
      "both david and philip have the same age\n"
     ]
    }
   ],
   "source": [
    "davidAge = 32\n",
    "philipAge = 32\n",
    "\n",
    "if davidAge == philipAge:  \n",
    "    print('both david and philip have the same age')\n",
    "else:\n",
    "    print('Davids age is different from that of Philip')"
   ]
  },
  {
   "cell_type": "code",
   "execution_count": 35,
   "id": "5c9e55de",
   "metadata": {},
   "outputs": [
    {
     "name": "stdout",
     "output_type": "stream",
     "text": [
      "David is younger than  Philip\n"
     ]
    }
   ],
   "source": [
    "davidAge = 40\n",
    "philipAge = 40\n",
    "\n",
    "if davidAge > philipAge:  \n",
    "    print('david is older than philip')\n",
    "\n",
    "else:\n",
    "    print('David is younger than  Philip')"
   ]
  },
  {
   "cell_type": "code",
   "execution_count": 36,
   "id": "7751d6e8",
   "metadata": {},
   "outputs": [
    {
     "name": "stdout",
     "output_type": "stream",
     "text": [
      "their ages are thesame\n"
     ]
    }
   ],
   "source": [
    "davidAge = 40\n",
    "philipAge = 40\n",
    "\n",
    "if davidAge > philipAge:  \n",
    "    print('david is older than philip')\n",
    "elif davidAge == philipAge:\n",
    "    print('their ages are thesame')\n",
    "else:\n",
    "    print('David is younger than  Philip')"
   ]
  },
  {
   "cell_type": "code",
   "execution_count": 37,
   "id": "72d0b2a6",
   "metadata": {},
   "outputs": [
    {
     "name": "stdout",
     "output_type": "stream",
     "text": [
      "they are all agemates\n"
     ]
    }
   ],
   "source": [
    "davidAge = 40\n",
    "philipAge = 40\n",
    "jerryAge = 40  \n",
    "\n",
    "if jerryAge > davidAge:\n",
    "    print('jerry and david are at least agemates')\n",
    "elif jerryAge > philipAge:\n",
    "    print('jerry is older than philip')\n",
    "elif jerryAge == davidAge and davidAge == philipAge:\n",
    "    print('they are all agemates')\n",
    "else:\n",
    "    print('they have different ages')"
   ]
  },
  {
   "cell_type": "code",
   "execution_count": 38,
   "id": "d2ecddbc",
   "metadata": {},
   "outputs": [],
   "source": [
    "scores = [56, 70, 30, 98, 77, 69]\n",
    "\n",
    "aGrade = 'A'\n",
    "bGrade = 'B'\n",
    "cGrade = 'C'\n",
    "fGrade = 'F'\n",
    "\n",
    "statusP = 'Pass'\n",
    "statusF = 'Fail'"
   ]
  },
  {
   "cell_type": "markdown",
   "id": "5ffaaa64",
   "metadata": {},
   "source": [
    "# Lists Containers"
   ]
  },
  {
   "cell_type": "code",
   "execution_count": null,
   "id": "48462ee3",
   "metadata": {},
   "outputs": [],
   "source": [
    "# Lists are a type of containers that can hold multiple items in it each seperated by a comma \n",
    "\n",
    "List is denoted by a square bracket  \n",
    "\n",
    "example - an empty list   \n",
    "\n",
    "myList = []\n",
    "\n",
    "\n",
    "A list with three items in it  \n",
    "\n",
    "my List = [2, 'James', 'Agatha']"
   ]
  },
  {
   "cell_type": "code",
   "execution_count": 3,
   "id": "90c3c8e7",
   "metadata": {},
   "outputs": [
    {
     "name": "stdout",
     "output_type": "stream",
     "text": [
      "orange\n",
      "banana\n",
      "apple\n"
     ]
    }
   ],
   "source": [
    "list1 = ['orange', 'banana', 'apple']\n",
    "\n",
    "for item in list1:\n",
    "    print(item)"
   ]
  },
  {
   "cell_type": "code",
   "execution_count": 4,
   "id": "dac33303",
   "metadata": {},
   "outputs": [
    {
     "name": "stdout",
     "output_type": "stream",
     "text": [
      "going to the container to pick an item\n",
      "item picked is:  orange\n",
      "assiging the picked item to the variable fruit\n",
      " the index position of the fruite i picked from the container is 0\n",
      "done with this item, going for another one\n",
      "###########################\n",
      "going to the container to pick an item\n",
      "item picked is:  banana\n",
      "assiging the picked item to the variable fruit\n",
      " the index position of the fruite i picked from the container is 1\n",
      "done with this item, going for another one\n",
      "###########################\n",
      "going to the container to pick an item\n",
      "item picked is:  apple\n",
      "assiging the picked item to the variable fruit\n",
      " the index position of the fruite i picked from the container is 2\n",
      "done with this item, going for another one\n",
      "###########################\n"
     ]
    }
   ],
   "source": [
    "list1 = ['orange', 'banana', 'apple']\n",
    "\n",
    "for fruit in list1:\n",
    "    print('going to the container to pick an item')\n",
    "    print('item picked is: ', fruit)\n",
    "    print('assiging the picked item to the variable fruit')\n",
    "    print(' the index position of the fruite i picked from the container is', list1.index(fruit))\n",
    "   \n",
    "    print('done with this item, going for another one')\n",
    "    print('###########################')"
   ]
  },
  {
   "cell_type": "code",
   "execution_count": 5,
   "id": "b615ffe8",
   "metadata": {},
   "outputs": [
    {
     "name": "stdout",
     "output_type": "stream",
     "text": [
      "I hate this fruit\n",
      "this fruit is new\n",
      "this is to die for\n",
      "this is to die for\n"
     ]
    }
   ],
   "source": [
    "list1 =  ['orange', 'coco nut','banana', 'apple']\n",
    "\n",
    "for fruit in list1:\n",
    "    if fruit == 'orange':\n",
    "        print('I hate this fruit')\n",
    "    elif fruit in ['banana', 'apple', 'Kiwi','paw paw', 'water melon']:\n",
    "        print('this is to die for')\n",
    "    else:\n",
    "        print('this fruit is new')"
   ]
  },
  {
   "cell_type": "code",
   "execution_count": null,
   "id": "a3af15bb",
   "metadata": {},
   "outputs": [],
   "source": [
    "# Task:  assign students a grade based on their exam score and assign pass or fail based on their grade"
   ]
  },
  {
   "cell_type": "code",
   "execution_count": 6,
   "id": "297e957a",
   "metadata": {},
   "outputs": [],
   "source": [
    "students = ['Efe', 'Semako', 'Titi', 'Femi', 'Ada','Sarah']\n",
    "scores = [50, 70, 30, 50, 49, 49]\n",
    "\n",
    "aGrade = 'A' # score > 85\n",
    "bGrade = 'B' # score >75\n",
    "cGrade = 'C' # score > 50\n",
    "fGrade = 'F' # < 50\n",
    "\n",
    "statusP = 'Pass' # if A, B\n",
    "statusR = 'Repeat' # if C\n",
    "statusF = 'Fail' # F"
   ]
  },
  {
   "cell_type": "code",
   "execution_count": 7,
   "id": "42e00e70",
   "metadata": {},
   "outputs": [
    {
     "name": "stdout",
     "output_type": "stream",
     "text": [
      "Efe 50\n",
      "Semako 70\n",
      "Titi 30\n",
      "Femi 50\n",
      "Ada 49\n",
      "Sarah 49\n"
     ]
    }
   ],
   "source": [
    "# introduction to the zip() function \n",
    "#we can use the zip() function to loop through the contents of two or more lists at the same time\n",
    "\n",
    "for student, score in zip(students,scores ): # showing off the zip function\n",
    "    print(student, score)"
   ]
  },
  {
   "cell_type": "code",
   "execution_count": 8,
   "id": "1dbfc25d",
   "metadata": {},
   "outputs": [
    {
     "name": "stdout",
     "output_type": "stream",
     "text": [
      "Efe C Repeat\n",
      "Semako C Repeat\n",
      "Titi F Fail\n",
      "Femi C Repeat\n",
      "Ada F Fail\n",
      "Sarah F Fail\n"
     ]
    }
   ],
   "source": [
    "for student, score in zip(students,scores ): # showing off the zip function\n",
    "\n",
    "    if score >=85:\n",
    "        grade = aGrade\n",
    "    elif score >=75:\n",
    "        grade = bGrade\n",
    "    elif score >= 50:\n",
    "        grade = cGrade\n",
    "    elif score < 50:\n",
    "        grade = fGrade\n",
    "    else:\n",
    "        print('score unkown')\n",
    "    \n",
    "    \n",
    "    if grade in [aGrade, bGrade]:\n",
    "        status = 'Pass'\n",
    "    elif grade == cGrade:\n",
    "        status = 'Repeat'\n",
    "    else:\n",
    "        status = 'Fail'\n",
    "    print(student, grade, status)"
   ]
  },
  {
   "cell_type": "code",
   "execution_count": 2,
   "id": "81b8ecf2",
   "metadata": {},
   "outputs": [
    {
     "ename": "NameError",
     "evalue": "name 'students' is not defined",
     "output_type": "error",
     "traceback": [
      "\u001b[1;31m---------------------------------------------------------------------------\u001b[0m",
      "\u001b[1;31mNameError\u001b[0m                                 Traceback (most recent call last)",
      "Input \u001b[1;32mIn [2]\u001b[0m, in \u001b[0;36m<cell line: 4>\u001b[1;34m()\u001b[0m\n\u001b[0;32m      2\u001b[0m gradeList \u001b[38;5;241m=\u001b[39m []\n\u001b[0;32m      3\u001b[0m statusList \u001b[38;5;241m=\u001b[39m []\n\u001b[1;32m----> 4\u001b[0m \u001b[38;5;28;01mfor\u001b[39;00m student, score \u001b[38;5;129;01min\u001b[39;00m \u001b[38;5;28mzip\u001b[39m(\u001b[43mstudents\u001b[49m,scores ): \u001b[38;5;66;03m# showing off the zip function\u001b[39;00m\n\u001b[0;32m      6\u001b[0m     \u001b[38;5;28;01mif\u001b[39;00m score \u001b[38;5;241m>\u001b[39m\u001b[38;5;241m=\u001b[39m\u001b[38;5;241m85\u001b[39m:\n\u001b[0;32m      7\u001b[0m         grade \u001b[38;5;241m=\u001b[39m aGrade\n",
      "\u001b[1;31mNameError\u001b[0m: name 'students' is not defined"
     ]
    }
   ],
   "source": [
    "studList = []\n",
    "gradeList = []\n",
    "statusList = []\n",
    "for student, score in zip(students,scores ): # showing off the zip function\n",
    "\n",
    "    if score >=85:\n",
    "        grade = aGrade\n",
    "    elif score >=75:\n",
    "        grade = bGrade\n",
    "    elif score >= 50:\n",
    "        grade = cGrade\n",
    "    elif score < 50:\n",
    "        grade = fGrade\n",
    "    else:\n",
    "        print('score unkown')\n",
    "    \n",
    "    \n",
    "    if grade in [aGrade, bGrade]:\n",
    "        status = 'Pass'\n",
    "    elif grade == cGrade:\n",
    "        status = 'Repeat'\n",
    "    else:\n",
    "        status = 'Fail'\n",
    "    \n",
    "    studList.append(student)\n",
    "    gradeList.append(grade) \n",
    "    statusList.append(status)\n",
    "\n",
    "print(studList, gradeList, statusList)\n",
    "    "
   ]
  },
  {
   "cell_type": "code",
   "execution_count": 1,
   "id": "f3aa286a",
   "metadata": {},
   "outputs": [
    {
     "ename": "NameError",
     "evalue": "name 'studList' is not defined",
     "output_type": "error",
     "traceback": [
      "\u001b[1;31m---------------------------------------------------------------------------\u001b[0m",
      "\u001b[1;31mNameError\u001b[0m                                 Traceback (most recent call last)",
      "Input \u001b[1;32mIn [1]\u001b[0m, in \u001b[0;36m<cell line: 11>\u001b[1;34m()\u001b[0m\n\u001b[0;32m      7\u001b[0m table \u001b[38;5;241m=\u001b[39m pd\u001b[38;5;241m.\u001b[39mDataFrame() \u001b[38;5;66;03m# empty table\u001b[39;00m\n\u001b[0;32m     10\u001b[0m \u001b[38;5;66;03m# adding columns to the table and assigning values to the coulmns \u001b[39;00m\n\u001b[1;32m---> 11\u001b[0m table[\u001b[38;5;124m'\u001b[39m\u001b[38;5;124mname\u001b[39m\u001b[38;5;124m'\u001b[39m] \u001b[38;5;241m=\u001b[39m \u001b[43mstudList\u001b[49m\n\u001b[0;32m     12\u001b[0m table[\u001b[38;5;124m'\u001b[39m\u001b[38;5;124mgrade\u001b[39m\u001b[38;5;124m'\u001b[39m] \u001b[38;5;241m=\u001b[39m gradeList\n\u001b[0;32m     13\u001b[0m table[\u001b[38;5;124m'\u001b[39m\u001b[38;5;124mstatus\u001b[39m\u001b[38;5;124m'\u001b[39m] \u001b[38;5;241m=\u001b[39m statusList\n",
      "\u001b[1;31mNameError\u001b[0m: name 'studList' is not defined"
     ]
    }
   ],
   "source": [
    "# Putting results in a table  \n",
    "\n",
    "import pandas as pd \n",
    "\n",
    "#Create an empty table (dataframeabs)\n",
    "\n",
    "table = pd.DataFrame() # empty table\n",
    "\n",
    "\n",
    "# adding columns to the table and assigning values to the coulmns \n",
    "table['name'] = studList\n",
    "table['grade'] = gradeList\n",
    "table['status'] = statusList\n",
    "\n",
    "print(table)\n",
    "# Saving the table to an excel file\n",
    "table.to_excel('C:/Users/DELL/Documents/development/projects/pythonbasics/pythonbasics/Table.xls')"
   ]
  },
  {
   "cell_type": "code",
   "execution_count": 47,
   "id": "356ef2ed",
   "metadata": {},
   "outputs": [
    {
     "data": {
      "text/html": [
       "<div>\n",
       "<style scoped>\n",
       "    .dataframe tbody tr th:only-of-type {\n",
       "        vertical-align: middle;\n",
       "    }\n",
       "\n",
       "    .dataframe tbody tr th {\n",
       "        vertical-align: top;\n",
       "    }\n",
       "\n",
       "    .dataframe thead th {\n",
       "        text-align: right;\n",
       "    }\n",
       "</style>\n",
       "<table border=\"1\" class=\"dataframe\">\n",
       "  <thead>\n",
       "    <tr style=\"text-align: right;\">\n",
       "      <th></th>\n",
       "      <th>name</th>\n",
       "      <th>grade</th>\n",
       "      <th>status</th>\n",
       "    </tr>\n",
       "  </thead>\n",
       "  <tbody>\n",
       "    <tr>\n",
       "      <th>0</th>\n",
       "      <td>Efe</td>\n",
       "      <td>C</td>\n",
       "      <td>Repeat</td>\n",
       "    </tr>\n",
       "    <tr>\n",
       "      <th>1</th>\n",
       "      <td>Semako</td>\n",
       "      <td>C</td>\n",
       "      <td>Repeat</td>\n",
       "    </tr>\n",
       "    <tr>\n",
       "      <th>2</th>\n",
       "      <td>Titi</td>\n",
       "      <td>F</td>\n",
       "      <td>Fail</td>\n",
       "    </tr>\n",
       "    <tr>\n",
       "      <th>3</th>\n",
       "      <td>Femi</td>\n",
       "      <td>C</td>\n",
       "      <td>Repeat</td>\n",
       "    </tr>\n",
       "    <tr>\n",
       "      <th>4</th>\n",
       "      <td>Ada</td>\n",
       "      <td>F</td>\n",
       "      <td>Fail</td>\n",
       "    </tr>\n",
       "    <tr>\n",
       "      <th>5</th>\n",
       "      <td>Sarah</td>\n",
       "      <td>F</td>\n",
       "      <td>Fail</td>\n",
       "    </tr>\n",
       "  </tbody>\n",
       "</table>\n",
       "</div>"
      ],
      "text/plain": [
       "     name grade  status\n",
       "0     Efe     C  Repeat\n",
       "1  Semako     C  Repeat\n",
       "2    Titi     F    Fail\n",
       "3    Femi     C  Repeat\n",
       "4     Ada     F    Fail\n",
       "5   Sarah     F    Fail"
      ]
     },
     "execution_count": 47,
     "metadata": {},
     "output_type": "execute_result"
    }
   ],
   "source": [
    "table"
   ]
  },
  {
   "cell_type": "code",
   "execution_count": null,
   "id": "e6e3fc56",
   "metadata": {},
   "outputs": [],
   "source": []
  }
 ],
 "metadata": {
  "kernelspec": {
   "display_name": "Python 3 (ipykernel)",
   "language": "python",
   "name": "python3"
  },
  "language_info": {
   "codemirror_mode": {
    "name": "ipython",
    "version": 3
   },
   "file_extension": ".py",
   "mimetype": "text/x-python",
   "name": "python",
   "nbconvert_exporter": "python",
   "pygments_lexer": "ipython3",
   "version": "3.9.12"
  }
 },
 "nbformat": 4,
 "nbformat_minor": 5
}
